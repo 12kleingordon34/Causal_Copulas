{
 "cells": [
  {
   "cell_type": "markdown",
   "id": "e5850baa-9e56-42bb-922c-3b0bd9ac7364",
   "metadata": {},
   "source": [
    "# Copula Demo\n",
    "\n",
    "Before running, make sure the requirements have been installed correctly."
   ]
  },
  {
   "cell_type": "code",
   "execution_count": 44,
   "id": "1703b2e8-f29c-4e42-bb18-256d43490734",
   "metadata": {},
   "outputs": [],
   "source": [
    "from jax import random\n",
    "import jax.numpy as jnp\n",
    "\n",
    "import numpy as np\n",
    "import numpyro\n",
    "import numpyro.distributions as dist\n",
    "from numpyro.infer import MCMC, NUTS, HMC, MixedHMC\n",
    "from numpyro.infer.reparam import TransformReparam\n",
    "import pandas as pd\n",
    "from tqdm import tqdm\n",
    "\n",
    "import matplotlib.pyplot as plt"
   ]
  },
  {
   "cell_type": "markdown",
   "id": "bff214d6-3407-4fe8-a5f5-c3cf6a27bb26",
   "metadata": {
    "tags": []
   },
   "source": [
    "## Do Discrete variables work with MixedHMC? (Yes they do)"
   ]
  },
  {
   "cell_type": "code",
   "execution_count": 2,
   "id": "a579ff0d-432e-493a-9162-cc84dcee5006",
   "metadata": {},
   "outputs": [],
   "source": [
    "def model(probs, locs):\n",
    "    c = numpyro.sample(\"c\", dist.Categorical(probs))\n",
    "    numpyro.sample(\"x\", dist.Normal(locs[c], 0.5))\n",
    "\n",
    "probs = jnp.array([0.15, 0.3, 0.3, 0.25])\n",
    "locs = jnp.array([-2, 0, 2, 4])\n",
    "kernel = MixedHMC(HMC(model, trajectory_length=1.2), num_discrete_updates=20)\n",
    "mcmc = MCMC(kernel, num_warmup=1000, num_samples=100000, progress_bar=False)\n",
    "mcmc.run(random.PRNGKey(0), probs, locs)"
   ]
  },
  {
   "cell_type": "code",
   "execution_count": 3,
   "id": "28cc6775-dae5-4ad0-94a2-96bae8e68b2c",
   "metadata": {},
   "outputs": [
    {
     "name": "stdout",
     "output_type": "stream",
     "text": [
      "\n",
      "                mean       std    median      5.0%     95.0%     n_eff     r_hat\n",
      "         c      1.65      1.02      2.00      0.00      3.00   8474.42      1.00\n",
      "         x      1.29      2.09      1.51     -2.12      4.51   8898.92      1.00\n",
      "\n"
     ]
    }
   ],
   "source": [
    "mcmc.print_summary()  \n",
    "samples = mcmc.get_samples()"
   ]
  },
  {
   "cell_type": "markdown",
   "id": "255e99b6-3961-4c91-a278-e23398bbc206",
   "metadata": {},
   "source": [
    "## Copula "
   ]
  },
  {
   "cell_type": "markdown",
   "id": "65285110-9c33-485d-9b01-6a1877019eea",
   "metadata": {},
   "source": [
    "### First (very basic) attempt"
   ]
  },
  {
   "cell_type": "code",
   "execution_count": 12,
   "id": "3fceaee7-27a6-4e11-aeb4-bbe26694836c",
   "metadata": {},
   "outputs": [],
   "source": [
    "def copula_lpdf(u, v, rho):\n",
    "    u_2 = jnp.square(u)\n",
    "    v_2 = jnp.square(v)\n",
    "    rho_2 = jnp.square(rho)\n",
    "    return (\n",
    "        -0.5 * (1 - rho_2) - (\n",
    "            rho_2 * (u_2 + v_2) - 2 * rho * u * v\n",
    "        ) / (2 * (1 - rho_2))\n",
    "    )\n",
    "\n",
    "def simple_cts_copula_model(rho=None, y=None):    \n",
    "    Z = numpyro.sample('z', dist.Normal(0, 1))\n",
    "    F_inv_Z = dist.Normal(0, 1).cdf(Z)\n",
    "    \n",
    "    X_mean = 0. * Z + 0\n",
    "    X = numpyro.sample('x', dist.Normal(X_mean, 1))\n",
    "    \n",
    "    Y_mu = 0.0 * X\n",
    "    Y = numpyro.sample('y', dist.Normal(Y_mu, 1))\n",
    "    F_inv_Y = dist.Normal(Y_mu, 1).cdf(Y)\n",
    "    \n",
    "    numpyro.factor('cop_log_prob', copula_lpdf(F_inv_Z, F_inv_Y, rho))\n",
    "    \n",
    "def simple_discrete_copula_model(y=None):    \n",
    "    Z = numpyro.sample('z', dist.Normal(0, 1))\n",
    "    F_inv_Z = dist.Normal(0, 1).cdf(Z)\n",
    "    \n",
    "    X_p = 1 / (1 + jnp.exp(-Z))\n",
    "    X = numpyro.sample('x', dist.Bernoulli(X_p))\n",
    "    \n",
    "    Y_mu = 0.1 * X\n",
    "    Y = numpyro.sample('y', dist.Normal(Y_mu, 1))\n",
    "    F_inv_Y = dist.Normal(Y_mu, 1).cdf(Y)\n",
    "    \n",
    "    numpyro.factor('cop_log_prob', copula_lpdf(F_inv_Z, F_inv_Y, 0.99999))"
   ]
  },
  {
   "cell_type": "markdown",
   "id": "bf987f05-dc29-4cdf-a8d9-91055aeae542",
   "metadata": {},
   "source": [
    "### Continuous Copula Model"
   ]
  },
  {
   "cell_type": "markdown",
   "id": "f2f5b7fa-b4ed-4e38-b43a-a1777cbf4881",
   "metadata": {},
   "source": [
    "Trying out a very simple copula model. Initially working with a parameterisation where:\n",
    "$$ Z \\sim \\mathcal{N}(0, 1) $$\n",
    "$$ X \\sim \\mathcal{N}(0, 1) $$\n",
    "$$ Y \\sim \\mathcal{N}(0, 1) $$\n",
    "\n",
    "We complicate this trivial set up with the introduction of a copula between Y and Z where\n",
    "\n",
    "$$\\begin{pmatrix}F(Y)\\\\\n",
    "F(Z)\n",
    "\\end{pmatrix} \\sim \\mathcal{N}\\left(\\begin{pmatrix}0\\\\\n",
    "0\n",
    "\\end{pmatrix}, \\begin{pmatrix}1 & \\rho\\\\\n",
    "\\rho & 1\n",
    "\\end{pmatrix} \\right)$$.\n",
    "\n",
    "Compare the output when we set $\\rho = 0$ vs $\\rho = 0.999$."
   ]
  },
  {
   "cell_type": "code",
   "execution_count": 59,
   "id": "65b44135-59eb-4a6c-be6e-ee6c2096eb88",
   "metadata": {},
   "outputs": [],
   "source": [
    "# Simple continuous copula\n",
    "num_runs = 200\n",
    "simple_cts_cop_kernel = HMC(simple_cts_copula_model)\n",
    "mcmc_cts = MCMC(simple_cts_cop_kernel, num_warmup=2000, num_samples=1000, progress_bar=False)"
   ]
  },
  {
   "cell_type": "code",
   "execution_count": 66,
   "id": "d8d09f87-8b35-4753-a379-879b53bad7eb",
   "metadata": {},
   "outputs": [
    {
     "name": "stderr",
     "output_type": "stream",
     "text": [
      "100%|█████████████████████████████████████████| 500/500 [00:16<00:00, 30.28it/s]\n"
     ]
    }
   ],
   "source": [
    "total_copula_means = []\n",
    "for i in tqdm(range(num_runs)): \n",
    "    mcmc_cts.run(random.PRNGKey(i), rho=0.99)\n",
    "    cts_samples = mcmc_cts.get_samples(group_by_chain=True)\n",
    "    param_means = pd.DataFrame(numpyro.diagnostics.summary(cts_samples)).loc[['mean']].values.tolist()[0]\n",
    "    total_copula_means.append(param_means)\n",
    "total_copula_means = pd.DataFrame(total_copula_means, columns=['x', 'y', 'z'])"
   ]
  },
  {
   "cell_type": "code",
   "execution_count": 67,
   "id": "9aadcc00-0714-4ae2-9184-d47d846945f2",
   "metadata": {},
   "outputs": [
    {
     "name": "stderr",
     "output_type": "stream",
     "text": [
      "100%|█████████████████████████████████████████| 500/500 [00:14<00:00, 35.03it/s]\n"
     ]
    }
   ],
   "source": [
    "total_decorrelated_means = []\n",
    "for i in tqdm(range(num_runs)): \n",
    "    mcmc_cts.run(random.PRNGKey(i), rho=0.)\n",
    "    cts_samples = mcmc_cts.get_samples(group_by_chain=True)\n",
    "    param_means = pd.DataFrame(numpyro.diagnostics.summary(cts_samples)).loc[['mean']].values.tolist()[0]\n",
    "    total_decorrelated_means.append(param_means)\n",
    "total_decorrelated_means = pd.DataFrame(total_decorrelated_means, columns=['x', 'y', 'z'])"
   ]
  },
  {
   "cell_type": "markdown",
   "id": "2b0e22fb-aba6-4676-a1e8-632690627f8c",
   "metadata": {},
   "source": [
    "We see that the means for $Z$ and $Y$ are positively biased from zero thanks to the effect of the copula. Why?"
   ]
  },
  {
   "cell_type": "code",
   "execution_count": 68,
   "id": "17fdbdf8-640c-419d-af0e-fa4629d4c7b7",
   "metadata": {},
   "outputs": [
    {
     "data": {
      "text/html": [
       "<div>\n",
       "<style scoped>\n",
       "    .dataframe tbody tr th:only-of-type {\n",
       "        vertical-align: middle;\n",
       "    }\n",
       "\n",
       "    .dataframe tbody tr th {\n",
       "        vertical-align: top;\n",
       "    }\n",
       "\n",
       "    .dataframe thead th {\n",
       "        text-align: right;\n",
       "    }\n",
       "</style>\n",
       "<table border=\"1\" class=\"dataframe\">\n",
       "  <thead>\n",
       "    <tr style=\"text-align: right;\">\n",
       "      <th></th>\n",
       "      <th>x</th>\n",
       "      <th>y</th>\n",
       "      <th>z</th>\n",
       "    </tr>\n",
       "  </thead>\n",
       "  <tbody>\n",
       "    <tr>\n",
       "      <th>count</th>\n",
       "      <td>500.000000</td>\n",
       "      <td>500.000000</td>\n",
       "      <td>500.000000</td>\n",
       "    </tr>\n",
       "    <tr>\n",
       "      <th>mean</th>\n",
       "      <td>0.012566</td>\n",
       "      <td>0.111294</td>\n",
       "      <td>0.111566</td>\n",
       "    </tr>\n",
       "    <tr>\n",
       "      <th>std</th>\n",
       "      <td>0.433279</td>\n",
       "      <td>0.035158</td>\n",
       "      <td>0.034491</td>\n",
       "    </tr>\n",
       "    <tr>\n",
       "      <th>min</th>\n",
       "      <td>-2.969779</td>\n",
       "      <td>-0.001338</td>\n",
       "      <td>0.006054</td>\n",
       "    </tr>\n",
       "    <tr>\n",
       "      <th>25%</th>\n",
       "      <td>-0.088142</td>\n",
       "      <td>0.087149</td>\n",
       "      <td>0.089447</td>\n",
       "    </tr>\n",
       "    <tr>\n",
       "      <th>50%</th>\n",
       "      <td>0.005512</td>\n",
       "      <td>0.113610</td>\n",
       "      <td>0.112270</td>\n",
       "    </tr>\n",
       "    <tr>\n",
       "      <th>75%</th>\n",
       "      <td>0.127682</td>\n",
       "      <td>0.133806</td>\n",
       "      <td>0.132635</td>\n",
       "    </tr>\n",
       "    <tr>\n",
       "      <th>max</th>\n",
       "      <td>2.128247</td>\n",
       "      <td>0.196766</td>\n",
       "      <td>0.199156</td>\n",
       "    </tr>\n",
       "  </tbody>\n",
       "</table>\n",
       "</div>"
      ],
      "text/plain": [
       "                x           y           z\n",
       "count  500.000000  500.000000  500.000000\n",
       "mean     0.012566    0.111294    0.111566\n",
       "std      0.433279    0.035158    0.034491\n",
       "min     -2.969779   -0.001338    0.006054\n",
       "25%     -0.088142    0.087149    0.089447\n",
       "50%      0.005512    0.113610    0.112270\n",
       "75%      0.127682    0.133806    0.132635\n",
       "max      2.128247    0.196766    0.199156"
      ]
     },
     "execution_count": 68,
     "metadata": {},
     "output_type": "execute_result"
    }
   ],
   "source": [
    "total_copula_means.describe()"
   ]
  },
  {
   "cell_type": "code",
   "execution_count": 69,
   "id": "6b713b66-84ae-4993-80f5-dd4ad7b4f65c",
   "metadata": {},
   "outputs": [
    {
     "data": {
      "text/html": [
       "<div>\n",
       "<style scoped>\n",
       "    .dataframe tbody tr th:only-of-type {\n",
       "        vertical-align: middle;\n",
       "    }\n",
       "\n",
       "    .dataframe tbody tr th {\n",
       "        vertical-align: top;\n",
       "    }\n",
       "\n",
       "    .dataframe thead th {\n",
       "        text-align: right;\n",
       "    }\n",
       "</style>\n",
       "<table border=\"1\" class=\"dataframe\">\n",
       "  <thead>\n",
       "    <tr style=\"text-align: right;\">\n",
       "      <th></th>\n",
       "      <th>x</th>\n",
       "      <th>y</th>\n",
       "      <th>z</th>\n",
       "    </tr>\n",
       "  </thead>\n",
       "  <tbody>\n",
       "    <tr>\n",
       "      <th>count</th>\n",
       "      <td>500.000000</td>\n",
       "      <td>500.000000</td>\n",
       "      <td>500.000000</td>\n",
       "    </tr>\n",
       "    <tr>\n",
       "      <th>mean</th>\n",
       "      <td>-0.034873</td>\n",
       "      <td>0.004896</td>\n",
       "      <td>0.023692</td>\n",
       "    </tr>\n",
       "    <tr>\n",
       "      <th>std</th>\n",
       "      <td>0.415370</td>\n",
       "      <td>0.366099</td>\n",
       "      <td>0.336759</td>\n",
       "    </tr>\n",
       "    <tr>\n",
       "      <th>min</th>\n",
       "      <td>-2.035610</td>\n",
       "      <td>-1.475543</td>\n",
       "      <td>-1.362700</td>\n",
       "    </tr>\n",
       "    <tr>\n",
       "      <th>25%</th>\n",
       "      <td>-0.125573</td>\n",
       "      <td>-0.114768</td>\n",
       "      <td>-0.095867</td>\n",
       "    </tr>\n",
       "    <tr>\n",
       "      <th>50%</th>\n",
       "      <td>-0.005985</td>\n",
       "      <td>0.002438</td>\n",
       "      <td>0.012533</td>\n",
       "    </tr>\n",
       "    <tr>\n",
       "      <th>75%</th>\n",
       "      <td>0.087553</td>\n",
       "      <td>0.102878</td>\n",
       "      <td>0.138992</td>\n",
       "    </tr>\n",
       "    <tr>\n",
       "      <th>max</th>\n",
       "      <td>1.718845</td>\n",
       "      <td>1.571967</td>\n",
       "      <td>2.090429</td>\n",
       "    </tr>\n",
       "  </tbody>\n",
       "</table>\n",
       "</div>"
      ],
      "text/plain": [
       "                x           y           z\n",
       "count  500.000000  500.000000  500.000000\n",
       "mean    -0.034873    0.004896    0.023692\n",
       "std      0.415370    0.366099    0.336759\n",
       "min     -2.035610   -1.475543   -1.362700\n",
       "25%     -0.125573   -0.114768   -0.095867\n",
       "50%     -0.005985    0.002438    0.012533\n",
       "75%      0.087553    0.102878    0.138992\n",
       "max      1.718845    1.571967    2.090429"
      ]
     },
     "execution_count": 69,
     "metadata": {},
     "output_type": "execute_result"
    }
   ],
   "source": [
    "total_decorrelated_means.describe()"
   ]
  },
  {
   "cell_type": "markdown",
   "id": "addb7226-ac84-44d5-99bf-a4dc063fa671",
   "metadata": {},
   "source": [
    "#### Some visual diagnostics"
   ]
  },
  {
   "cell_type": "code",
   "execution_count": 7,
   "id": "0cc4b572-7088-457d-82b7-1fed70656132",
   "metadata": {},
   "outputs": [
    {
     "name": "stdout",
     "output_type": "stream",
     "text": [
      "Mean: 1.0826010704040527. Var: 0.9397798776626587\n",
      "Mean: 0.3125399947166443. Var: 1.0836108922958374\n",
      "Mean: 0.2031058669090271. Var: 1.029729962348938\n"
     ]
    },
    {
     "data": {
      "text/plain": [
       "<matplotlib.legend.Legend at 0x137cf6640>"
      ]
     },
     "execution_count": 7,
     "metadata": {},
     "output_type": "execute_result"
    },
    {
     "data": {
      "image/png": "[encoded data removed]",
      "text/plain": [
       "<Figure size 640x480 with 1 Axes>"
      ]
     },
     "metadata": {},
     "output_type": "display_data"
    }
   ],
   "source": [
    "x_samp = cts_samples['x']\n",
    "y_samp = cts_samples['y']\n",
    "z_samp = cts_samples['z']\n",
    "\n",
    "plt.hist(x_samp, label='X', alpha=0.5);\n",
    "print(f\"Mean: {np.mean(x_samp)}. Var: {np.var(x_samp)}\")\n",
    "\n",
    "plt.hist(y_samp, label='Y', alpha=0.5);\n",
    "print(f\"Mean: {np.mean(y_samp)}. Var: {np.var(y_samp)}\")\n",
    "\n",
    "plt.hist(z_samp, label='Z', alpha=0.5);\n",
    "print(f\"Mean: {np.mean(z_samp)}. Var: {np.var(z_samp)}\")\n",
    "\n",
    "plt.legend()"
   ]
  },
  {
   "cell_type": "code",
   "execution_count": 8,
   "id": "599b2bde-5f42-4cbb-9ad9-d1716e176731",
   "metadata": {},
   "outputs": [
    {
     "data": {
      "text/plain": [
       "<matplotlib.collections.PathCollection at 0x16c8ec2e0>"
      ]
     },
     "execution_count": 8,
     "metadata": {},
     "output_type": "execute_result"
    },
    {
     "data": {
      "image/png": "[encoded data removed]",
      "text/plain": [
       "<Figure size 640x480 with 1 Axes>"
      ]
     },
     "metadata": {},
     "output_type": "display_data"
    }
   ],
   "source": [
    "plt.scatter(z_samp, y_samp)"
   ]
  },
  {
   "cell_type": "markdown",
   "id": "6e3d0b97-261a-4332-9849-75dc47dd7f3a",
   "metadata": {},
   "source": [
    "### Discrete Copula Model"
   ]
  },
  {
   "cell_type": "code",
   "execution_count": 9,
   "id": "3fb21bda-e9aa-4469-b32e-f3da202f3cff",
   "metadata": {},
   "outputs": [
    {
     "name": "stderr",
     "output_type": "stream",
     "text": [
      "sample: 100%|█| 3000/3000 [00:02<00:00, 1029.27it/s, 798 steps of size 8.77e-03.\n"
     ]
    }
   ],
   "source": [
    "# Simple discrete Copula\n",
    "simple_discrete_cop_kernel = MixedHMC(HMC(simple_discrete_copula_model), num_discrete_updates=200)\n",
    "\n",
    "mcmc_discrete = MCMC(simple_discrete_cop_kernel, num_warmup=1000, num_samples=2000, progress_bar=True)\n",
    "mcmc_discrete.run(random.PRNGKey(0))"
   ]
  },
  {
   "cell_type": "code",
   "execution_count": 10,
   "id": "6317234d-f128-4906-8caf-ea42a174d204",
   "metadata": {},
   "outputs": [
    {
     "name": "stdout",
     "output_type": "stream",
     "text": [
      "\n",
      "                mean       std    median      5.0%     95.0%     n_eff     r_hat\n",
      "         x      0.56      0.50      1.00      0.00      1.00    238.49      1.00\n",
      "         y      0.26      1.03      0.32     -1.34      2.03    594.83      1.00\n",
      "         z      0.20      1.01      0.24     -1.37      1.96    627.42      1.00\n",
      "\n"
     ]
    }
   ],
   "source": [
    "mcmc_discrete.print_summary()  \n",
    "discrete_samples = mcmc_discrete.get_samples()"
   ]
  },
  {
   "cell_type": "code",
   "execution_count": 11,
   "id": "fe93e492-15ed-4cec-aac9-24be0856447f",
   "metadata": {},
   "outputs": [
    {
     "data": {
      "text/plain": [
       "<matplotlib.collections.PathCollection at 0x17f115490>"
      ]
     },
     "execution_count": 11,
     "metadata": {},
     "output_type": "execute_result"
    },
    {
     "data": {
      "image/png": "[encoded data removed]",
      "text/plain": [
       "<Figure size 640x480 with 1 Axes>"
      ]
     },
     "metadata": {},
     "output_type": "display_data"
    }
   ],
   "source": [
    "plt.scatter(discrete_samples['z'], discrete_samples['x'])"
   ]
  },
  {
   "cell_type": "markdown",
   "id": "24f0f917-c224-48cb-8426-6b2bdfaef4ae",
   "metadata": {},
   "source": [
    "### More complex Didilez Model (mix of discrete and cts params)"
   ]
  },
  {
   "cell_type": "code",
   "execution_count": 17,
   "id": "8633849a-bcdf-410f-8c40-6828224c41d2",
   "metadata": {},
   "outputs": [],
   "source": [
    "def copula_lpdf(u, v, rho):\n",
    "    u_2 = jnp.square(u)\n",
    "    v_2 = jnp.square(v)\n",
    "    rho_2 = jnp.square(rho)\n",
    "    return (\n",
    "        -0.5 * (1 - rho_2) - (\n",
    "            rho_2 * (u_2 + v_2) - 2 * rho * u * v\n",
    "        ) / (2 * (1 - rho_2))\n",
    "    )\n",
    "\n",
    "\n",
    "def base_didilez_model(y=None, \n",
    "                       p_a=None,\n",
    "                       alpha_0=None,\n",
    "                       alpha_a=None,\n",
    "                       gamma_0=None,\n",
    "                       gamma_a=None,\n",
    "                       gamma_l=None,\n",
    "                       gamma_al=None,\n",
    "                       beta_0=None,\n",
    "                       beta_a=None,\n",
    "                       beta_b=None,\n",
    "                       beta_ab=None,\n",
    "                       sigma_y=None):\n",
    "    \n",
    "    A = numpyro.sample(\"a\", dist.Bernoulli(p_a))\n",
    "    \n",
    "    L_mu = jnp.exp(-(alpha_0 + alpha_a * A))\n",
    "    L = numpyro.sample(\"l\", dist.Exponential(L_mu))\n",
    "    F_inv_L = dist.Exponential(L_mu).cdf(L)    \n",
    "    \n",
    "    B_prob = 1/(1 + jnp.exp(gamma_0 + gamma_a * A + gamma_l * L + gamma_al * A * L))\n",
    "    B = numpyro.sample(\"b\", dist.Bernoulli(B_prob))\n",
    "\n",
    "    Y_mean = beta_0 + beta_a * A + beta_b * B + beta_ab * A * B\n",
    "    Y = numpyro.sample(\"y\", dist.Normal(Y_mean, sigma_y))\n",
    "    F_inv_Y = dist.Normal(Y_mean, sigma_y).cdf(Y)    \n",
    "    \n",
    "    # Choosing an arbitrary sigmoidal function for rho_ly\n",
    "    rho_LY_val = 0 #numpyro.deterministic('rho_ly', 1/(1 + jnp.exp(-(L + B + 1 )) ))\n",
    "    \n",
    "    # `numpyro.factor()` appears to add a log-likelihood to the sampling space\n",
    "    # If you want to add the renormalising factors, we can simply add or subtract\n",
    "    # log-likelihood factors similar to what we do on the line below.\n",
    "    numpyro.factor('cop_log_prob', copula_lpdf(F_inv_L, F_inv_Y, rho_LY_val))"
   ]
  },
  {
   "cell_type": "code",
   "execution_count": 15,
   "id": "6d98983f-e00a-4726-b326-abea982fcbbb",
   "metadata": {},
   "outputs": [],
   "source": [
    "# Didilez Model\n",
    "base_didilez_kernel = MixedHMC(HMC(base_didilez_model), num_discrete_updates=2000)\n",
    "\n",
    "mcmc_didilez = MCMC(\n",
    "    base_didilez_kernel,\n",
    "    num_warmup=1000,\n",
    "    num_samples=2000, \n",
    "    progress_bar=True\n",
    ")"
   ]
  },
  {
   "cell_type": "code",
   "execution_count": 16,
   "id": "efded869-cc1f-45f7-b7d1-6e5ce01a4241",
   "metadata": {},
   "outputs": [
    {
     "name": "stderr",
     "output_type": "stream",
     "text": [
      "sample: 100%|█| 3000/3000 [00:06<00:00, 479.06it/s, 2000 steps of size 1.41e+34.\n"
     ]
    },
    {
     "name": "stdout",
     "output_type": "stream",
     "text": [
      "\n",
      "                mean       std    median      5.0%     95.0%     n_eff     r_hat\n",
      "         a      0.50      0.50      1.00      0.00      1.00    585.17      1.00\n",
      "         b      0.20      0.40      0.00      0.00      1.00    930.39      1.00\n",
      "         l      0.88      0.74      0.69      0.00      1.89    320.26      1.00\n",
      "         y      0.90      1.18      0.90     -0.97      2.86    149.78      1.00\n",
      "\n"
     ]
    }
   ],
   "source": [
    "mcmc_didilez.run(\n",
    "    random.PRNGKey(0),\n",
    "    p_a=0.5,\n",
    "    alpha_0=0,\n",
    "    alpha_a=0.,\n",
    "    gamma_0=0,\n",
    "    gamma_a=1,\n",
    "    gamma_l=1,\n",
    "    gamma_al=1,\n",
    "    beta_0=0,\n",
    "    beta_a=1,\n",
    "    beta_b=1,\n",
    "    beta_ab=1,\n",
    "    sigma_y=1\n",
    ")\n",
    "mcmc_didilez.print_summary()  \n",
    "didilez_samples = mcmc_didilez.get_samples()"
   ]
  },
  {
   "cell_type": "code",
   "execution_count": 15,
   "id": "1325a4da-a00c-477a-8526-4f8c4073eb46",
   "metadata": {},
   "outputs": [
    {
     "data": {
      "image/png": "[encoded data removed]",
      "text/plain": [
       "<Figure size 640x480 with 1 Axes>"
      ]
     },
     "metadata": {},
     "output_type": "display_data"
    }
   ],
   "source": [
    "plt.hist(didilez_samples['a'], label='A', alpha=0.25);\n",
    "plt.hist(didilez_samples['b'], label='B', alpha=0.25);\n",
    "plt.hist(didilez_samples['l'], label='L', alpha=0.25, bins=20);\n",
    "plt.legend();"
   ]
  },
  {
   "cell_type": "code",
   "execution_count": 16,
   "id": "6a2e3453-337f-42f5-9b63-bef4ce972372",
   "metadata": {},
   "outputs": [
    {
     "data": {
      "image/png": "[encoded data removed]",
      "text/plain": [
       "<Figure size 640x480 with 1 Axes>"
      ]
     },
     "metadata": {},
     "output_type": "display_data"
    }
   ],
   "source": [
    "plt.hist(didilez_samples['y'], label='Y', alpha=0.5, bins=40);"
   ]
  }
 ],
 "metadata": {
  "kernelspec": {
   "display_name": "Python 3 (ipykernel)",
   "language": "python",
   "name": "python3"
  },
  "language_info": {
   "codemirror_mode": {
    "name": "ipython",
    "version": 3
   },
   "file_extension": ".py",
   "mimetype": "text/x-python",
   "name": "python",
   "nbconvert_exporter": "python",
   "pygments_lexer": "ipython3",
   "version": "3.9.7"
  }
 },
 "nbformat": 4,
 "nbformat_minor": 5
}
