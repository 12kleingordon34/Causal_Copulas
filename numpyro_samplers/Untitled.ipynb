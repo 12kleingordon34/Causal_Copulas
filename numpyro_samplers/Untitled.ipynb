{
 "cells": [
  {
   "cell_type": "code",
   "execution_count": 1,
   "id": "1703b2e8-f29c-4e42-bb18-256d43490734",
   "metadata": {},
   "outputs": [
    {
     "name": "stderr",
     "output_type": "stream",
     "text": [
      "/Users/danielmanela/.virtualenvs/numpyro-sampler/lib/python3.9/site-packages/tqdm/auto.py:22: TqdmWarning: IProgress not found. Please update jupyter and ipywidgets. See https://ipywidgets.readthedocs.io/en/stable/user_install.html\n",
      "  from .autonotebook import tqdm as notebook_tqdm\n"
     ]
    }
   ],
   "source": [
    "# Imports\n",
    "from jax import random\n",
    "import jax.numpy as jnp\n",
    "\n",
    "import numpy as np\n",
    "import numpyro\n",
    "import numpyro.distributions as dist\n",
    "from numpyro.infer import MCMC, NUTS, HMC, MixedHMC\n",
    "\n",
    "from numpyro.infer.reparam import TransformReparam"
   ]
  },
  {
   "cell_type": "markdown",
   "id": "7b71c51b-d414-4cc2-a2c7-8cc09fe43727",
   "metadata": {},
   "source": [
    "## Eight School's Problem"
   ]
  },
  {
   "cell_type": "code",
   "execution_count": null,
   "id": "dcd03d39-77af-4189-8f2b-d1ef25f85e2d",
   "metadata": {},
   "outputs": [],
   "source": [
    "J = 8\n",
    "y = np.array([28.0, 8.0, -3.0, 7.0, -1.0, 1.0, 18.0, 12.0])\n",
    "sigma = np.array([15.0, 10.0, 16.0, 11.0, 9.0, 11.0, 10.0, 18.0])"
   ]
  },
  {
   "cell_type": "code",
   "execution_count": null,
   "id": "9fc82e0e-88e6-4cae-8e62-ae6b5fcef1c9",
   "metadata": {},
   "outputs": [],
   "source": [
    "def eight_schools(J, sigma, y=None):\n",
    "    mu = numpyro.sample('mu', dist.Normal(0, 5))\n",
    "    tau = numpyro.sample('tau', dist.HalfCauchy(5))\n",
    "    \n",
    "    with numpyro.plate('J', J):\n",
    "        theta = numpyro.sample('theta', dist.Normal(mu, tau))\n",
    "        numpyro.sample('obs', dist.Normal(theta, sigma), obs=y)"
   ]
  },
  {
   "cell_type": "code",
   "execution_count": null,
   "id": "9248d537-cd5a-4f90-81c6-f0b720b87c7d",
   "metadata": {},
   "outputs": [],
   "source": [
    "def eight_schools_noncentered(J, sigma, y=None):\n",
    "    mu = numpyro.sample('mu', dist.Normal(0, 5))\n",
    "    tau = numpyro.sample('tau', dist.HalfCauchy(5))\n",
    "    \n",
    "    with numpyro.plate('J', J):\n",
    "        with numpyro.handlers.reparam(config={'theta': TransformReparam()}):\n",
    "            theta = numpyro.sample(\n",
    "                'theta',\n",
    "                dist.TransformedDistribution(dist.Normal(0., 1.),\n",
    "                                             dist.transforms.AffineTransform(mu, tau))\n",
    "            )\n",
    "        numpyro.sample('obs', dist.Normal(theta, sigma), obs=y)"
   ]
  },
  {
   "cell_type": "code",
   "execution_count": null,
   "id": "cbc8a1c2-a9e8-4ff9-b9fe-9dcfde0df5bb",
   "metadata": {},
   "outputs": [],
   "source": [
    "nuts_kernel = NUTS(eight_schools_noncentered)\n",
    "mcmc = MCMC(nuts_kernel, num_warmup=500, num_samples=1000)\n",
    "rng_key = random.PRNGKey(0)\n",
    "mcmc.run(rng_key, J, sigma, y=y, extra_fields=('potential_energy',))"
   ]
  },
  {
   "cell_type": "code",
   "execution_count": null,
   "id": "0d825d08-2474-47aa-91fe-99c924a80211",
   "metadata": {},
   "outputs": [],
   "source": [
    "#### Sampling without data\n",
    "def eight_schools_noncentered_no_data(J, sigma, y=None):\n",
    "    mu = numpyro.sample('mu', dist.Normal(0, 1))\n",
    "    tau = numpyro.sample('tau', dist.Gamma(concentration=5, rate=0.5))\n",
    "    \n",
    "    with numpyro.plate('J', J):\n",
    "        with numpyro.handlers.reparam(config={'theta': TransformReparam()}):\n",
    "            theta = numpyro.sample(\n",
    "                'theta',\n",
    "                dist.TransformedDistribution(dist.Normal(0., 1.),\n",
    "                                             dist.transforms.AffineTransform(mu, tau))\n",
    "            )"
   ]
  },
  {
   "cell_type": "code",
   "execution_count": null,
   "id": "01064da7-131a-4d4e-9027-06ef7a1a0e68",
   "metadata": {},
   "outputs": [],
   "source": [
    "nuts_kernel_no_data = NUTS(eight_schools_noncentered_no_data)\n",
    "mcmc_no_data = MCMC(nuts_kernel_no_data, num_warmup=500, num_samples=2000)\n",
    "rng_key = random.PRNGKey(0)\n",
    "mcmc_no_data.run(rng_key, J, sigma, extra_fields=('potential_energy',))"
   ]
  },
  {
   "cell_type": "code",
   "execution_count": null,
   "id": "4e3fd840-c359-433b-b8e5-ebfcbec04b5b",
   "metadata": {},
   "outputs": [],
   "source": [
    "mcmc_no_data.print_summary()"
   ]
  },
  {
   "cell_type": "markdown",
   "id": "bff214d6-3407-4fe8-a5f5-c3cf6a27bb26",
   "metadata": {},
   "source": [
    "## Do Discrete variables work with MixedHMC? (Yes they do)"
   ]
  },
  {
   "cell_type": "code",
   "execution_count": null,
   "id": "a579ff0d-432e-493a-9162-cc84dcee5006",
   "metadata": {},
   "outputs": [],
   "source": [
    "def model(probs, locs):\n",
    "    c = numpyro.sample(\"c\", dist.Categorical(probs))\n",
    "    numpyro.sample(\"x\", dist.Normal(locs[c], 0.5))\n",
    "\n",
    "probs = jnp.array([0.15, 0.3, 0.3, 0.25])\n",
    "locs = jnp.array([-2, 0, 2, 4])\n",
    "kernel = MixedHMC(HMC(model, trajectory_length=1.2), num_discrete_updates=20)\n",
    "mcmc = MCMC(kernel, num_warmup=1000, num_samples=100000, progress_bar=False)\n",
    "mcmc.run(random.PRNGKey(0), probs, locs)"
   ]
  },
  {
   "cell_type": "code",
   "execution_count": null,
   "id": "28cc6775-dae5-4ad0-94a2-96bae8e68b2c",
   "metadata": {},
   "outputs": [],
   "source": [
    "mcmc.print_summary()  \n",
    "samples = mcmc.get_samples()"
   ]
  },
  {
   "cell_type": "markdown",
   "id": "255e99b6-3961-4c91-a278-e23398bbc206",
   "metadata": {},
   "source": [
    "## Copula "
   ]
  },
  {
   "cell_type": "code",
   "execution_count": 234,
   "id": "3fceaee7-27a6-4e11-aeb4-bbe26694836c",
   "metadata": {},
   "outputs": [],
   "source": [
    "from jax import random\n",
    "import jax.numpy as jnp\n",
    "\n",
    "import numpy as np\n",
    "import numpyro\n",
    "import numpyro.distributions as dist\n",
    "from numpyro.infer import MCMC, NUTS, HMC, MixedHMC\n",
    "\n",
    "import matplotlib.pyplot as plt\n",
    "\n",
    "\n",
    "def copula_lpdf(u, v, rho):\n",
    "    u_2 = jnp.square(u)\n",
    "    v_2 = jnp.square(v)\n",
    "    rho_2 = jnp.square(rho)\n",
    "    return (\n",
    "        -0.5 * (1 - rho_2) - (\n",
    "            rho_2 * (u_2 + v_2) - 2 * rho * u * v\n",
    "        ) / (2 * (1 - rho_2))\n",
    "    )\n",
    "\n",
    "def simple_cts_copula_model(y=None):    \n",
    "    Z = numpyro.sample('z', dist.Normal(0, 1))\n",
    "    F_inv_Z = dist.Normal(0, 1).cdf(Z)\n",
    "    \n",
    "    X_mean = 0.1 * Z + 1\n",
    "    X = numpyro.sample('x', dist.Normal(X_mean, 1))\n",
    "    \n",
    "    Y_mu = 0.1 * X\n",
    "    Y = numpyro.sample('y', dist.Normal(Y_mu, 1))\n",
    "    F_inv_Y = dist.Normal(Y_mu, 1).cdf(Y)\n",
    "    \n",
    "    numpyro.factor('cop_log_prob', copula_lpdf(F_inv_Z, F_inv_Y, 0.99999))\n",
    "    \n",
    "def simple_discrete_copula_model(y=None):    \n",
    "    Z = numpyro.sample('z', dist.Normal(0, 1))\n",
    "    F_inv_Z = dist.Normal(0, 1).cdf(Z)\n",
    "    \n",
    "    X_p = 1 / (1 + jnp.exp(-Z))\n",
    "    X = numpyro.sample('x', dist.Bernoulli(X_p))\n",
    "    \n",
    "    Y_mu = 0.1 * X\n",
    "    Y = numpyro.sample('y', dist.Normal(Y_mu, 1))\n",
    "    F_inv_Y = dist.Normal(Y_mu, 1).cdf(Y)\n",
    "    \n",
    "    numpyro.factor('cop_log_prob', copula_lpdf(F_inv_Z, F_inv_Y, 0.99999))"
   ]
  },
  {
   "cell_type": "markdown",
   "id": "bf987f05-dc29-4cdf-a8d9-91055aeae542",
   "metadata": {},
   "source": [
    "### Continuous Copula Model"
   ]
  },
  {
   "cell_type": "code",
   "execution_count": 238,
   "id": "65b44135-59eb-4a6c-be6e-ee6c2096eb88",
   "metadata": {},
   "outputs": [
    {
     "name": "stderr",
     "output_type": "stream",
     "text": [
      "sample: 100%|███████████████████████████████████████████████████████████████████████████████████████████████████████████████████████████████████████████████| 3000/3000 [00:01<00:00, 1615.80it/s, 727 steps of size 8.65e-03. acc. prob=0.96]\n"
     ]
    }
   ],
   "source": [
    "# Simple continuous copula\n",
    "simple_cts_cop_kernel = HMC(simple_cts_copula_model)\n",
    "\n",
    "\n",
    "mcmc_cts = MCMC(simple_cts_cop_kernel, num_warmup=1000, num_samples=2000, progress_bar=True)\n",
    "mcmc_cts.run(random.PRNGKey(0))"
   ]
  },
  {
   "cell_type": "code",
   "execution_count": 239,
   "id": "b7ac68ee-f02f-46a0-9f3a-a158936ab676",
   "metadata": {},
   "outputs": [
    {
     "name": "stdout",
     "output_type": "stream",
     "text": [
      "\n",
      "                mean       std    median      5.0%     95.0%     n_eff     r_hat\n",
      "         x      1.08      0.97      1.09     -0.40      2.76     50.38      1.00\n",
      "         y      0.31      1.04      0.32     -1.60      1.80    647.94      1.00\n",
      "         z      0.20      1.02      0.21     -1.64      1.71    547.14      1.00\n",
      "\n",
      "Number of divergences: 0\n"
     ]
    }
   ],
   "source": [
    "mcmc_cts.print_summary()  \n",
    "cts_samples = mcmc_cts.get_samples()"
   ]
  },
  {
   "cell_type": "code",
   "execution_count": 254,
   "id": "0cc4b572-7088-457d-82b7-1fed70656132",
   "metadata": {},
   "outputs": [
    {
     "name": "stdout",
     "output_type": "stream",
     "text": [
      "Mean: 1.0826010704040527. Var: 0.9397798776626587\n",
      "Mean: 0.3125399947166443. Var: 1.0836108922958374\n",
      "Mean: 0.2031058669090271. Var: 1.029729962348938\n"
     ]
    },
    {
     "data": {
      "text/plain": [
       "<matplotlib.legend.Legend at 0x2abc158e0>"
      ]
     },
     "execution_count": 254,
     "metadata": {},
     "output_type": "execute_result"
    },
    {
     "data": {
      "image/png": "[encoded data removed]",
      "text/plain": [
       "<Figure size 640x480 with 1 Axes>"
      ]
     },
     "metadata": {},
     "output_type": "display_data"
    }
   ],
   "source": [
    "x_samp = cts_samples['x']\n",
    "y_samp = cts_samples['y']\n",
    "z_samp = cts_samples['z']\n",
    "\n",
    "plt.hist(x_samp, label='X', alpha=0.5);\n",
    "print(f\"Mean: {np.mean(x_samp)}. Var: {np.var(x_samp)}\")\n",
    "\n",
    "plt.hist(y_samp, label='Y', alpha=0.5);\n",
    "print(f\"Mean: {np.mean(y_samp)}. Var: {np.var(y_samp)}\")\n",
    "\n",
    "plt.hist(z_samp, label='Z', alpha=0.5);\n",
    "print(f\"Mean: {np.mean(z_samp)}. Var: {np.var(z_samp)}\")\n",
    "\n",
    "plt.legend()"
   ]
  },
  {
   "cell_type": "code",
   "execution_count": null,
   "id": "599b2bde-5f42-4cbb-9ad9-d1716e176731",
   "metadata": {},
   "outputs": [],
   "source": [
    "plt.scatter(z_samp, y_samp)"
   ]
  },
  {
   "cell_type": "markdown",
   "id": "6e3d0b97-261a-4332-9849-75dc47dd7f3a",
   "metadata": {},
   "source": [
    "### Discrete Copula Model"
   ]
  },
  {
   "cell_type": "code",
   "execution_count": 246,
   "id": "3fb21bda-e9aa-4469-b32e-f3da202f3cff",
   "metadata": {},
   "outputs": [
    {
     "name": "stderr",
     "output_type": "stream",
     "text": [
      "sample: 100%|███████████████████████████████████████████████████████████████████████████████████████████████████████████████████████████████████████████████| 3000/3000 [00:02<00:00, 1031.29it/s, 798 steps of size 8.77e-03. acc. prob=0.96]\n"
     ]
    }
   ],
   "source": [
    "# Simple discrete Copula\n",
    "simple_discrete_cop_kernel = MixedHMC(HMC(simple_discrete_copula_model), num_discrete_updates=200)\n",
    "\n",
    "mcmc_discrete = MCMC(simple_discrete_cop_kernel, num_warmup=1000, num_samples=2000, progress_bar=True)\n",
    "mcmc_discrete.run(random.PRNGKey(0))"
   ]
  },
  {
   "cell_type": "code",
   "execution_count": 248,
   "id": "6317234d-f128-4906-8caf-ea42a174d204",
   "metadata": {},
   "outputs": [
    {
     "name": "stdout",
     "output_type": "stream",
     "text": [
      "\n",
      "                mean       std    median      5.0%     95.0%     n_eff     r_hat\n",
      "         x      0.56      0.50      1.00      0.00      1.00    238.49      1.00\n",
      "         y      0.26      1.03      0.32     -1.34      2.03    594.83      1.00\n",
      "         z      0.20      1.01      0.24     -1.37      1.96    627.42      1.00\n",
      "\n"
     ]
    }
   ],
   "source": [
    "mcmc_discrete.print_summary()  \n",
    "discrete_samples = mcmc_discrete.get_samples()"
   ]
  },
  {
   "cell_type": "code",
   "execution_count": 249,
   "id": "fe93e492-15ed-4cec-aac9-24be0856447f",
   "metadata": {},
   "outputs": [
    {
     "data": {
      "text/plain": [
       "<matplotlib.collections.PathCollection at 0x2c69b4490>"
      ]
     },
     "execution_count": 255,
     "metadata": {},
     "output_type": "execute_result"
    },
    {
     "data": {
      "image/png": "[encoded data removed]",
      "text/plain": [
       "<Figure size 640x480 with 1 Axes>"
      ]
     },
     "metadata": {},
     "output_type": "display_data"
    }
   ],
   "source": [
    "plt.scatter(discrete_samples['z'], discrete_samples['x'])"
   ]
  },
  {
   "cell_type": "markdown",
   "id": "24f0f917-c224-48cb-8426-6b2bdfaef4ae",
   "metadata": {},
   "source": [
    "### Didelez Model"
   ]
  },
  {
   "cell_type": "code",
   "execution_count": 288,
   "id": "8633849a-bcdf-410f-8c40-6828224c41d2",
   "metadata": {},
   "outputs": [],
   "source": [
    "def copula_lpdf(u, v, rho):\n",
    "    u_2 = jnp.square(u)\n",
    "    v_2 = jnp.square(v)\n",
    "    rho_2 = jnp.square(rho)\n",
    "    return (\n",
    "        -0.5 * (1 - rho_2) - (\n",
    "            rho_2 * (u_2 + v_2) - 2 * rho * u * v\n",
    "        ) / (2 * (1 - rho_2))\n",
    "    )\n",
    "\n",
    "\n",
    "def base_didelez_model(y=None):\n",
    "    A = numpyro.sample(\"a\", dist.Bernoulli(0.5))\n",
    "    \n",
    "    L_mu = jnp.exp(-(0.1))# + 0.5 * A))\n",
    "    L = numpyro.sample(\"l\", dist.Exponential(L_mu))\n",
    "    F_inv_L = dist.Exponential(L_mu).cdf(L)    \n",
    "    \n",
    "    B_prob = 1/(1 + jnp.exp(0.1 + 0.2 * A + 0.3 * L + 0.4 * A * L))\n",
    "    B = numpyro.sample(\"b\", dist.Bernoulli(B_prob))\n",
    "\n",
    "    Y_mean = 0.5 + 0.5 * A + 0.75 * B + 2 * A * B\n",
    "    Y = numpyro.sample(\"y\", dist.Normal(Y_mean, 1))\n",
    "    F_inv_Y = dist.Normal(Y_mean, 1).cdf(Y)    \n",
    "    \n",
    "    rho_LY_val = numpyro.deterministic('rho_LY', 1/(1 + jnp.exp(-(2*L + B - 1)) ))    \n",
    "    numpyro.factor('cop_log_prob', copula_lpdf(F_inv_L, F_inv_Y, rho_LY_val))"
   ]
  },
  {
   "cell_type": "code",
   "execution_count": 289,
   "id": "6d98983f-e00a-4726-b326-abea982fcbbb",
   "metadata": {},
   "outputs": [
    {
     "name": "stderr",
     "output_type": "stream",
     "text": [
      "sample: 100%|███████████████████████████████████████████████████████████████████████████████████████████████████████████████████████████████████████████████| 6000/6000 [00:04<00:00, 1297.63it/s, 200 steps of size 1.54e+35. acc. prob=0.88]\n"
     ]
    }
   ],
   "source": [
    "# Didelez Model\n",
    "base_didelez_kernel = MixedHMC(HMC(base_didelez_model), num_discrete_updates=200)\n",
    "\n",
    "mcmc_didelez = MCMC(base_didelez_kernel, num_warmup=1000, num_samples=5000, progress_bar=True)\n",
    "mcmc_didelez.run(random.PRNGKey(0))"
   ]
  },
  {
   "cell_type": "code",
   "execution_count": 290,
   "id": "efded869-cc1f-45f7-b7d1-6e5ce01a4241",
   "metadata": {},
   "outputs": [
    {
     "name": "stdout",
     "output_type": "stream",
     "text": [
      "\n",
      "                mean       std    median      5.0%     95.0%     n_eff     r_hat\n",
      "         a      0.51      0.50      1.00      0.00      1.00   3214.49      1.00\n",
      "         b      0.36      0.48      0.00      0.00      1.00   2967.30      1.00\n",
      "         l      0.94      0.74      0.78      0.00      1.94   2313.34      1.00\n",
      "         y      1.56      1.42      1.38     -0.66      4.20   1565.26      1.00\n",
      "\n"
     ]
    }
   ],
   "source": [
    "mcmc_didelez.print_summary()  \n",
    "didelez_samples = mcmc_didelez.get_samples()"
   ]
  },
  {
   "cell_type": "code",
   "execution_count": 291,
   "id": "1325a4da-a00c-477a-8526-4f8c4073eb46",
   "metadata": {},
   "outputs": [
    {
     "data": {
      "image/png": "[encoded data removed]",
      "text/plain": [
       "<Figure size 640x480 with 1 Axes>"
      ]
     },
     "metadata": {},
     "output_type": "display_data"
    }
   ],
   "source": [
    "plt.hist(didelez_samples['a'], label='A', alpha=0.5);\n",
    "plt.hist(didelez_samples['l'], label='L', alpha=0.5, bins=20);\n",
    "plt.hist(didelez_samples['b'], label='B', alpha=0.5);\n",
    "plt.legend();"
   ]
  },
  {
   "cell_type": "code",
   "execution_count": 278,
   "id": "6a2e3453-337f-42f5-9b63-bef4ce972372",
   "metadata": {},
   "outputs": [
    {
     "data": {
      "image/png": "[encoded data removed]",
      "text/plain": [
       "<Figure size 640x480 with 1 Axes>"
      ]
     },
     "metadata": {},
     "output_type": "display_data"
    }
   ],
   "source": [
    "plt.hist(didelez_samples['y'], label='Y', alpha=0.5, bins=40);"
   ]
  },
  {
   "cell_type": "code",
   "execution_count": null,
   "id": "1e0c601d-448e-4fac-8cf1-09a66b9bc5ef",
   "metadata": {},
   "outputs": [],
   "source": []
  }
 ],
 "metadata": {
  "kernelspec": {
   "display_name": "Python 3 (ipykernel)",
   "language": "python",
   "name": "python3"
  },
  "language_info": {
   "codemirror_mode": {
    "name": "ipython",
    "version": 3
   },
   "file_extension": ".py",
   "mimetype": "text/x-python",
   "name": "python",
   "nbconvert_exporter": "python",
   "pygments_lexer": "ipython3",
   "version": "3.9.7"
  }
 },
 "nbformat": 4,
 "nbformat_minor": 5
}
