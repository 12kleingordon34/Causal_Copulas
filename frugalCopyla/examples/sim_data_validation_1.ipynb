{
 "cells": [
  {
   "cell_type": "markdown",
   "id": "ee9b40af-7d5a-4fff-9e72-8625209de6f3",
   "metadata": {},
   "source": [
    "# Validation"
   ]
  },
  {
   "cell_type": "code",
   "execution_count": 1,
   "id": "43b6759f-9968-473e-9d81-c2227790e156",
   "metadata": {
    "tags": []
   },
   "outputs": [
    {
     "name": "stderr",
     "output_type": "stream",
     "text": [
      "/Users/danielmanela/.virtualenvs/causal-copulas/lib/python3.9/site-packages/tqdm/auto.py:22: TqdmWarning: IProgress not found. Please update jupyter and ipywidgets. See https://ipywidgets.readthedocs.io/en/stable/user_install.html\n",
      "  from .autonotebook import tqdm as notebook_tqdm\n"
     ]
    }
   ],
   "source": [
    "import math\n",
    "import random\n",
    "\n",
    "import jax\n",
    "import jax.numpy as jnp\n",
    "import matplotlib.pyplot as plt\n",
    "import numpy as np\n",
    "import numpyro\n",
    "import numpyro.distributions as dist\n",
    "import pandas as pd\n",
    "import scipy\n",
    "from scipy import stats\n",
    "import statsmodels.api as sm\n",
    "import tqdm\n",
    "\n",
    "from frugalCopyla.model import CopulaModel\n",
    "from frugalCopyla import copula_functions as copula_lpdfs"
   ]
  },
  {
   "cell_type": "code",
   "execution_count": 2,
   "id": "ba1f7b17-ba3c-4ec0-9051-97c0de31acd7",
   "metadata": {},
   "outputs": [],
   "source": [
    "random.seed(0)"
   ]
  },
  {
   "cell_type": "markdown",
   "id": "cf8d4e7a-8214-4d1a-a833-de25f19f3585",
   "metadata": {},
   "source": [
    "## Check seed in data generation works correctly"
   ]
  },
  {
   "cell_type": "code",
   "execution_count": 3,
   "id": "18cfa40f-bd4b-4d5d-bc91-afa1222775ec",
   "metadata": {},
   "outputs": [],
   "source": [
    "seed_input_dict = {\n",
    "    'Z': {\n",
    "        'dist': dist.Normal, \n",
    "        'formula': {'loc': 'A ~ 1', 'scale': 'A ~ 1'}, \n",
    "        'coeffs': {'loc': [0.], 'scale': [1.]}, \n",
    "        'link': None\n",
    "    }, \n",
    "    'U': {\n",
    "        'dist': dist.Normal, \n",
    "        'formula': {'loc': 'U ~ Z', 'scale': 'U ~ 1'}, \n",
    "        'coeffs': {'loc': [1., 2.], 'scale': [1.]}, \n",
    "        'link': None\n",
    "    },     \n",
    "    'X': {\n",
    "        'dist': dist.Normal, \n",
    "        'formula': {'loc': 'X ~ Z', 'scale': 'X ~ 1'}, \n",
    "        'coeffs': {'loc': [0., 0.5], 'scale': [1.]}, \n",
    "        'link': None\n",
    "    },\n",
    "    'Y': {\n",
    "        'dist': dist.Normal, \n",
    "        'formula': {'loc': 'Y ~ X', 'scale': 'Y ~ 1'}, \n",
    "        'coeffs': {'loc': [0., 1.], 'scale': [0.5]}, \n",
    "        'link': {'loc': None}\n",
    "    },\n",
    "    'copula': {\n",
    "        'class': copula_lpdfs.multivar_gaussian_copula_lpdf, \n",
    "        'vars': ['Z', 'Y'], \n",
    "        'formula': {'rho_zy': 'c ~ Z'}, \n",
    "        'coeffs': {'rho_zy': [0.5, 1]}, \n",
    "        'link': {'rho_zy': jax.nn.sigmoid}\n",
    "    }    \n",
    "}"
   ]
  },
  {
   "cell_type": "code",
   "execution_count": 4,
   "id": "82640698-5779-4d6c-a51f-f09e40ec42d3",
   "metadata": {},
   "outputs": [
    {
     "name": "stdout",
     "output_type": "stream",
     "text": [
      "WARNING: CHECK PASSES AUTOMATICALLY. FULL SOLUTION ADDED TBC\n",
      "CPU times: user 13.7 s, sys: 192 ms, total: 13.9 s\n",
      "Wall time: 13.8 s\n"
     ]
    }
   ],
   "source": [
    "%%time\n",
    "seed_mod = CopulaModel(seed_input_dict)\n",
    "sim_data_seed = seed_mod.simulate_data(num_warmup=2000, num_samples=100_000, joint_status='continuous', seed=1)\n",
    "sim_data_seed = pd.DataFrame(sim_data_seed)[['Z', 'U', 'X', 'Y']]\n",
    "seed_df_1 = sim_data_seed.copy()\n",
    "\n",
    "sim_data_seed = seed_mod.simulate_data(num_warmup=2000, num_samples=100_000, joint_status='continuous', seed=1)\n",
    "sim_data_seed = pd.DataFrame(sim_data_seed)[['Z', 'U', 'X', 'Y']]\n",
    "\n",
    "assert sim_data_seed.equals(seed_df_1)\n",
    "\n",
    "sim_data_seed = seed_mod.simulate_data(num_warmup=2000, num_samples=100_000, joint_status='continuous', seed=2)\n",
    "sim_data_seed = pd.DataFrame(sim_data_seed)[['Z', 'U', 'X', 'Y']]\n",
    "\n",
    "assert ~sim_data_seed.equals(seed_df_1)"
   ]
  },
  {
   "cell_type": "markdown",
   "id": "145bf97c-e4d6-4b65-850b-217c80f1539a",
   "metadata": {},
   "source": [
    "## Example 1"
   ]
  },
  {
   "cell_type": "code",
   "execution_count": 4,
   "id": "187a2402-d2a0-485a-a9de-920e654506ec",
   "metadata": {},
   "outputs": [],
   "source": [
    "input_dict = {\n",
    "    'Z': {\n",
    "        'dist': dist.Normal, \n",
    "        'formula': {'loc': 'A ~ 1', 'scale': 'A ~ 1'}, \n",
    "        'coeffs': {'loc': [0.], 'scale': [1.]}, \n",
    "        'link': None\n",
    "    }, \n",
    "    'X': {\n",
    "        'dist': dist.Normal, \n",
    "        'formula': {'loc': 'X ~ Z', 'scale': 'X ~ 1'}, \n",
    "        'coeffs': {'loc': [0., 0.5], 'scale': [1.]}, \n",
    "        'link': None\n",
    "    },\n",
    "    'Y': {\n",
    "        'dist': dist.Normal, \n",
    "        'formula': {'loc': 'Y ~ X', 'scale': 'Y ~ 1'}, \n",
    "        'coeffs': {'loc': [0., 0.5], 'scale': [0.5]}, \n",
    "        'link': {'loc': None}\n",
    "    }\n",
    "}"
   ]
  },
  {
   "cell_type": "code",
   "execution_count": 7,
   "id": "684f81c8-0444-4974-bffa-19fcecf4a2b9",
   "metadata": {},
   "outputs": [
    {
     "data": {
      "text/plain": [
       "{'Z': {'dist': numpyro.distributions.continuous.Normal,\n",
       "  'formula': {'loc': 'A ~ 1', 'scale': 'A ~ 1'},\n",
       "  'coeffs': {'loc': [0.0], 'scale': [1.0]},\n",
       "  'link': {},\n",
       "  'linear_predictor': {'loc': '0.0', 'scale': '1.0'}},\n",
       " 'X': {'dist': numpyro.distributions.continuous.Normal,\n",
       "  'formula': {'loc': \"X ~ 1 + record_dict['Z']\", 'scale': 'X ~ 1'},\n",
       "  'coeffs': {'loc': [0.0, 0.5], 'scale': [1.0]},\n",
       "  'link': {},\n",
       "  'linear_predictor': {'loc': \"0.0 + 0.5 * record_dict['Z']\", 'scale': '1.0'}},\n",
       " 'Y': {'dist': numpyro.distributions.continuous.Normal,\n",
       "  'formula': {'loc': \"Y ~ 1 + record_dict['X']\", 'scale': 'Y ~ 1'},\n",
       "  'coeffs': {'loc': [0.0, 0.5], 'scale': [0.5]},\n",
       "  'link': {'loc': None},\n",
       "  'linear_predictor': {'loc': \"0.0 + 0.5 * record_dict['X']\", 'scale': '0.5'}}}"
      ]
     },
     "execution_count": 7,
     "metadata": {},
     "output_type": "execute_result"
    }
   ],
   "source": [
    "cop_mod.parsed_model"
   ]
  },
  {
   "cell_type": "markdown",
   "id": "3f26a62e-fbab-47f4-b68a-9dfdc0c2060f",
   "metadata": {},
   "source": [
    "Preparing the `CopulaModel`:"
   ]
  },
  {
   "cell_type": "code",
   "execution_count": 6,
   "id": "acb7a626-9630-41db-8d57-b069e5c5cbd1",
   "metadata": {},
   "outputs": [
    {
     "name": "stdout",
     "output_type": "stream",
     "text": [
      "INFO: No copula specified.\n",
      "WARNING: CHECK PASSES AUTOMATICALLY. FULL SOLUTION ADDED TBC\n",
      "CPU times: user 4.47 s, sys: 61.6 ms, total: 4.54 s\n",
      "Wall time: 4.53 s\n"
     ]
    },
    {
     "data": {
      "text/html": [
       "<div>\n",
       "<style scoped>\n",
       "    .dataframe tbody tr th:only-of-type {\n",
       "        vertical-align: middle;\n",
       "    }\n",
       "\n",
       "    .dataframe tbody tr th {\n",
       "        vertical-align: top;\n",
       "    }\n",
       "\n",
       "    .dataframe thead th {\n",
       "        text-align: right;\n",
       "    }\n",
       "</style>\n",
       "<table border=\"1\" class=\"dataframe\">\n",
       "  <thead>\n",
       "    <tr style=\"text-align: right;\">\n",
       "      <th></th>\n",
       "      <th>Z</th>\n",
       "      <th>X</th>\n",
       "      <th>Y</th>\n",
       "    </tr>\n",
       "  </thead>\n",
       "  <tbody>\n",
       "    <tr>\n",
       "      <th>count</th>\n",
       "      <td>1000000.000000</td>\n",
       "      <td>1000000.000000</td>\n",
       "      <td>1000000.000000</td>\n",
       "    </tr>\n",
       "    <tr>\n",
       "      <th>mean</th>\n",
       "      <td>0.000071</td>\n",
       "      <td>0.001043</td>\n",
       "      <td>0.000600</td>\n",
       "    </tr>\n",
       "    <tr>\n",
       "      <th>std</th>\n",
       "      <td>0.998562</td>\n",
       "      <td>1.115881</td>\n",
       "      <td>0.749170</td>\n",
       "    </tr>\n",
       "    <tr>\n",
       "      <th>min</th>\n",
       "      <td>-4.583462</td>\n",
       "      <td>-5.911977</td>\n",
       "      <td>-3.444071</td>\n",
       "    </tr>\n",
       "    <tr>\n",
       "      <th>25%</th>\n",
       "      <td>-0.673928</td>\n",
       "      <td>-0.752323</td>\n",
       "      <td>-0.505126</td>\n",
       "    </tr>\n",
       "    <tr>\n",
       "      <th>50%</th>\n",
       "      <td>-0.000857</td>\n",
       "      <td>0.000128</td>\n",
       "      <td>0.000728</td>\n",
       "    </tr>\n",
       "    <tr>\n",
       "      <th>75%</th>\n",
       "      <td>0.674170</td>\n",
       "      <td>0.753669</td>\n",
       "      <td>0.506009</td>\n",
       "    </tr>\n",
       "    <tr>\n",
       "      <th>max</th>\n",
       "      <td>4.797225</td>\n",
       "      <td>5.322031</td>\n",
       "      <td>3.405338</td>\n",
       "    </tr>\n",
       "  </tbody>\n",
       "</table>\n",
       "</div>"
      ],
      "text/plain": [
       "                    Z               X               Y\n",
       "count  1000000.000000  1000000.000000  1000000.000000\n",
       "mean         0.000071        0.001043        0.000600\n",
       "std          0.998562        1.115881        0.749170\n",
       "min         -4.583462       -5.911977       -3.444071\n",
       "25%         -0.673928       -0.752323       -0.505126\n",
       "50%         -0.000857        0.000128        0.000728\n",
       "75%          0.674170        0.753669        0.506009\n",
       "max          4.797225        5.322031        3.405338"
      ]
     },
     "execution_count": 6,
     "metadata": {},
     "output_type": "execute_result"
    }
   ],
   "source": [
    "%%time\n",
    "cop_mod = CopulaModel(input_dict)\n",
    "sim_data = cop_mod.simulate_data(num_warmup=2000, num_samples=1_000_000, joint_status='continuous', seed=1)\n",
    "sim_data = pd.DataFrame(sim_data)[['Z', 'X', 'Y']]\n",
    "sim_data.describe()"
   ]
  },
  {
   "cell_type": "code",
   "execution_count": 7,
   "id": "e91da356-c860-463e-bf10-34be75357cc1",
   "metadata": {},
   "outputs": [],
   "source": [
    "assert stats.kstest(sim_data[['Z']].values.ravel(), stats.norm.cdf).pvalue > 0.1"
   ]
  },
  {
   "cell_type": "code",
   "execution_count": 8,
   "id": "797d86ee-a4ae-404d-836b-d0243aaa93a9",
   "metadata": {},
   "outputs": [],
   "source": [
    "assert (stats.kstest(\n",
    "    (sim_data[['X']].values.ravel() - .5 * sim_data[['Z']].values.ravel()), \n",
    "    stats.norm.cdf\n",
    ").pvalue > 0.1)"
   ]
  },
  {
   "cell_type": "code",
   "execution_count": 9,
   "id": "03ef40f1-5e6e-4ea9-a235-c0eca44f3a07",
   "metadata": {},
   "outputs": [
    {
     "data": {
      "text/html": [
       "<div>\n",
       "<style scoped>\n",
       "    .dataframe tbody tr th:only-of-type {\n",
       "        vertical-align: middle;\n",
       "    }\n",
       "\n",
       "    .dataframe tbody tr th {\n",
       "        vertical-align: top;\n",
       "    }\n",
       "\n",
       "    .dataframe thead th {\n",
       "        text-align: right;\n",
       "    }\n",
       "</style>\n",
       "<table border=\"1\" class=\"dataframe\">\n",
       "  <thead>\n",
       "    <tr style=\"text-align: right;\">\n",
       "      <th></th>\n",
       "      <th>estimate</th>\n",
       "      <th>2sd</th>\n",
       "      <th>true_vals</th>\n",
       "      <th>true_estimate</th>\n",
       "    </tr>\n",
       "  </thead>\n",
       "  <tbody>\n",
       "    <tr>\n",
       "      <th>const</th>\n",
       "      <td>0.001008</td>\n",
       "      <td>0.001997</td>\n",
       "      <td>0.0</td>\n",
       "      <td>True</td>\n",
       "    </tr>\n",
       "    <tr>\n",
       "      <th>Z</th>\n",
       "      <td>0.498644</td>\n",
       "      <td>0.002000</td>\n",
       "      <td>0.5</td>\n",
       "      <td>True</td>\n",
       "    </tr>\n",
       "  </tbody>\n",
       "</table>\n",
       "</div>"
      ],
      "text/plain": [
       "       estimate       2sd  true_vals  true_estimate\n",
       "const  0.001008  0.001997        0.0           True\n",
       "Z      0.498644  0.002000        0.5           True"
      ]
     },
     "metadata": {},
     "output_type": "display_data"
    }
   ],
   "source": [
    "lm = sm.OLS(sim_data[['X']].values.ravel(), sm.add_constant(sim_data[['Z']]))\n",
    "lm_results = lm.fit()\n",
    "\n",
    "summary = pd.concat([ \n",
    "    pd.DataFrame(lm_results.params).rename(columns={0: 'estimate'}),\n",
    "    pd.DataFrame(lm_results.bse * 2).rename(columns={0: '2sd'})\n",
    "], axis=1)\n",
    "summary['true_vals'] = [0, 0.5]\n",
    "summary['true_estimate'] = (\n",
    "    (summary['estimate'] + summary['2sd'] > summary['true_vals']) & (summary['estimate'] - summary['2sd'] < summary['true_vals'])\n",
    ")\n",
    "display(summary)\n",
    "assert summary.loc['const', 'true_estimate'] == True\n",
    "assert summary.loc['Z', 'true_estimate'] == True"
   ]
  },
  {
   "cell_type": "code",
   "execution_count": 10,
   "id": "18e7fd5b-754d-4100-aae7-7a5c9470ff72",
   "metadata": {},
   "outputs": [
    {
     "data": {
      "text/html": [
       "<div>\n",
       "<style scoped>\n",
       "    .dataframe tbody tr th:only-of-type {\n",
       "        vertical-align: middle;\n",
       "    }\n",
       "\n",
       "    .dataframe tbody tr th {\n",
       "        vertical-align: top;\n",
       "    }\n",
       "\n",
       "    .dataframe thead th {\n",
       "        text-align: right;\n",
       "    }\n",
       "</style>\n",
       "<table border=\"1\" class=\"dataframe\">\n",
       "  <thead>\n",
       "    <tr style=\"text-align: right;\">\n",
       "      <th></th>\n",
       "      <th>estimate</th>\n",
       "      <th>2sd</th>\n",
       "      <th>true_vals</th>\n",
       "      <th>true_estimate</th>\n",
       "    </tr>\n",
       "  </thead>\n",
       "  <tbody>\n",
       "    <tr>\n",
       "      <th>const</th>\n",
       "      <td>0.000079</td>\n",
       "      <td>0.001000</td>\n",
       "      <td>0.0</td>\n",
       "      <td>True</td>\n",
       "    </tr>\n",
       "    <tr>\n",
       "      <th>Z</th>\n",
       "      <td>0.000074</td>\n",
       "      <td>0.001119</td>\n",
       "      <td>0.0</td>\n",
       "      <td>True</td>\n",
       "    </tr>\n",
       "    <tr>\n",
       "      <th>X</th>\n",
       "      <td>0.499932</td>\n",
       "      <td>0.001001</td>\n",
       "      <td>0.5</td>\n",
       "      <td>True</td>\n",
       "    </tr>\n",
       "  </tbody>\n",
       "</table>\n",
       "</div>"
      ],
      "text/plain": [
       "       estimate       2sd  true_vals  true_estimate\n",
       "const  0.000079  0.001000        0.0           True\n",
       "Z      0.000074  0.001119        0.0           True\n",
       "X      0.499932  0.001001        0.5           True"
      ]
     },
     "metadata": {},
     "output_type": "display_data"
    }
   ],
   "source": [
    "lm = sm.OLS(sim_data[['Y']].values.ravel(), sm.add_constant(sim_data[['Z', 'X']]))\n",
    "lm_results = lm.fit()\n",
    "\n",
    "summary = pd.concat([ \n",
    "    pd.DataFrame(lm_results.params).rename(columns={0: 'estimate'}),\n",
    "    pd.DataFrame(lm_results.bse * 2).rename(columns={0: '2sd'})\n",
    "], axis=1)\n",
    "summary['true_vals'] = [0, 0, 0.5]\n",
    "summary['true_estimate'] = (\n",
    "    (summary['estimate'] + summary['2sd'] > summary['true_vals']) & (summary['estimate'] - summary['2sd'] < summary['true_vals'])\n",
    ")\n",
    "display(summary)\n",
    "assert summary.loc['const', 'true_estimate'] == True\n",
    "assert summary.loc['Z', 'true_estimate'] == True"
   ]
  },
  {
   "cell_type": "markdown",
   "id": "9faea0c4-b56c-4812-9cb5-21407fe2892c",
   "metadata": {},
   "source": [
    "## Example 2"
   ]
  },
  {
   "cell_type": "code",
   "execution_count": 11,
   "id": "3efc8235-e5ad-480a-ac3d-343ca084ddba",
   "metadata": {},
   "outputs": [],
   "source": [
    "input_dict_2 = {\n",
    "    'Z': {\n",
    "        'dist': dist.Normal, \n",
    "        'formula': {'loc': 'A ~ 1', 'scale': 'A ~ 1'}, \n",
    "        'coeffs': {'loc': [0.], 'scale': [1.]}, \n",
    "        'link': None\n",
    "    }, \n",
    "    'U': {\n",
    "        'dist': dist.Normal, \n",
    "        'formula': {'loc': 'U ~ 1', 'scale': 'U ~ 1'}, \n",
    "        'coeffs': {'loc': [0.], 'scale': [1.]}, \n",
    "        'link': None\n",
    "    },     \n",
    "    'X': {\n",
    "        'dist': dist.BernoulliProbs, \n",
    "        'formula': {'probs': 'X ~ Z'}, \n",
    "        'coeffs': {'probs': [0., 0.5]}, \n",
    "        'link': {'probs': jax.scipy.special.expit}\n",
    "    },\n",
    "    'Y': {\n",
    "        'dist': dist.Normal, \n",
    "        'formula': {'loc': 'Y ~ X', 'scale': 'Y ~ 1'}, \n",
    "        'coeffs': {'loc': [0., 1.], 'scale': [0.5]}, \n",
    "        'link': {'loc': None}\n",
    "    },\n",
    "    'copula': {\n",
    "        'class': copula_lpdfs.multivar_gaussian_copula_lpdf, \n",
    "        'vars': ['Z', 'Y'], \n",
    "        'formula': {'rho_zy': 'c ~ Z'}, \n",
    "        'coeffs': {'rho_zy': [0.5, 1]}, \n",
    "        'link': {'rho_zy': jax.nn.sigmoid}\n",
    "    }    \n",
    "}"
   ]
  },
  {
   "cell_type": "code",
   "execution_count": 17,
   "id": "878c9b61-5595-4462-a987-7f2ebcc0fa5e",
   "metadata": {},
   "outputs": [
    {
     "name": "stdout",
     "output_type": "stream",
     "text": [
      "INFO: No copula specified.\n",
      "WARNING: CHECK PASSES AUTOMATICALLY. FULL SOLUTION ADDED TBC\n",
      "CPU times: user 4.76 s, sys: 58.7 ms, total: 4.82 s\n",
      "Wall time: 4.81 s\n"
     ]
    }
   ],
   "source": [
    "%%time\n",
    "cop_mod_2 = CopulaModel(input_dict_2)\n",
    "sim_data_2 = cop_mod_2.simulate_data(num_warmup=2000, num_samples=1_000_000, joint_status='mixed', seed=0)\n",
    "sim_data_2 = pd.DataFrame(sim_data_2)[['Z', 'X', 'Y']]"
   ]
  },
  {
   "cell_type": "code",
   "execution_count": 18,
   "id": "c503b27e-12db-4328-b0d7-12c4c2c5a0b9",
   "metadata": {},
   "outputs": [
    {
     "data": {
      "text/html": [
       "<div>\n",
       "<style scoped>\n",
       "    .dataframe tbody tr th:only-of-type {\n",
       "        vertical-align: middle;\n",
       "    }\n",
       "\n",
       "    .dataframe tbody tr th {\n",
       "        vertical-align: top;\n",
       "    }\n",
       "\n",
       "    .dataframe thead th {\n",
       "        text-align: right;\n",
       "    }\n",
       "</style>\n",
       "<table border=\"1\" class=\"dataframe\">\n",
       "  <thead>\n",
       "    <tr style=\"text-align: right;\">\n",
       "      <th></th>\n",
       "      <th>estimate</th>\n",
       "      <th>2sd</th>\n",
       "      <th>true_vals</th>\n",
       "      <th>true_estimate</th>\n",
       "    </tr>\n",
       "  </thead>\n",
       "  <tbody>\n",
       "    <tr>\n",
       "      <th>const</th>\n",
       "      <td>0.001899</td>\n",
       "      <td>0.004115</td>\n",
       "      <td>0.0</td>\n",
       "      <td>True</td>\n",
       "    </tr>\n",
       "    <tr>\n",
       "      <th>Z</th>\n",
       "      <td>0.496341</td>\n",
       "      <td>0.004343</td>\n",
       "      <td>0.5</td>\n",
       "      <td>True</td>\n",
       "    </tr>\n",
       "  </tbody>\n",
       "</table>\n",
       "</div>"
      ],
      "text/plain": [
       "       estimate       2sd  true_vals  true_estimate\n",
       "const  0.001899  0.004115        0.0           True\n",
       "Z      0.496341  0.004343        0.5           True"
      ]
     },
     "metadata": {},
     "output_type": "display_data"
    }
   ],
   "source": [
    "lm = sm.GLM(sim_data_2[['X']].values.ravel(), sm.add_constant(sim_data_2[['Z']]), family=sm.families.Binomial())\n",
    "lm_results = lm.fit()\n",
    "\n",
    "summary = pd.concat([ \n",
    "    pd.DataFrame(lm_results.params).rename(columns={0: 'estimate'}),\n",
    "    pd.DataFrame(lm_results.bse * 2).rename(columns={0: '2sd'})\n",
    "], axis=1)\n",
    "summary['true_vals'] = [0, 0.5]\n",
    "summary['true_estimate'] = (\n",
    "    (summary['estimate'] + summary['2sd'] > summary['true_vals']) & (summary['estimate'] - summary['2sd'] < summary['true_vals'])\n",
    ")\n",
    "display(summary)\n",
    "assert summary.loc['const', 'true_estimate'] == True\n",
    "assert summary.loc['Z', 'true_estimate'] == True"
   ]
  },
  {
   "cell_type": "code",
   "execution_count": 19,
   "id": "4914d55c-d989-4e92-ba1e-65393a74ff23",
   "metadata": {},
   "outputs": [
    {
     "data": {
      "text/html": [
       "<div>\n",
       "<style scoped>\n",
       "    .dataframe tbody tr th:only-of-type {\n",
       "        vertical-align: middle;\n",
       "    }\n",
       "\n",
       "    .dataframe tbody tr th {\n",
       "        vertical-align: top;\n",
       "    }\n",
       "\n",
       "    .dataframe thead th {\n",
       "        text-align: right;\n",
       "    }\n",
       "</style>\n",
       "<table border=\"1\" class=\"dataframe\">\n",
       "  <thead>\n",
       "    <tr style=\"text-align: right;\">\n",
       "      <th></th>\n",
       "      <th>estimate</th>\n",
       "      <th>2sd</th>\n",
       "      <th>true_vals</th>\n",
       "      <th>true_estimate</th>\n",
       "    </tr>\n",
       "  </thead>\n",
       "  <tbody>\n",
       "    <tr>\n",
       "      <th>const</th>\n",
       "      <td>-0.000735</td>\n",
       "      <td>0.001437</td>\n",
       "      <td>0.0</td>\n",
       "      <td>True</td>\n",
       "    </tr>\n",
       "    <tr>\n",
       "      <th>Z</th>\n",
       "      <td>-0.000347</td>\n",
       "      <td>0.001028</td>\n",
       "      <td>0.5</td>\n",
       "      <td>False</td>\n",
       "    </tr>\n",
       "    <tr>\n",
       "      <th>X</th>\n",
       "      <td>1.000068</td>\n",
       "      <td>0.002060</td>\n",
       "      <td>1.0</td>\n",
       "      <td>True</td>\n",
       "    </tr>\n",
       "  </tbody>\n",
       "</table>\n",
       "</div>"
      ],
      "text/plain": [
       "       estimate       2sd  true_vals  true_estimate\n",
       "const -0.000735  0.001437        0.0           True\n",
       "Z     -0.000347  0.001028        0.5          False\n",
       "X      1.000068  0.002060        1.0           True"
      ]
     },
     "metadata": {},
     "output_type": "display_data"
    }
   ],
   "source": [
    "lm = sm.OLS(sim_data_2[['Y']].values.ravel(), sm.add_constant(sim_data_2[['Z', 'X']]))\n",
    "lm_results = lm.fit()\n",
    "\n",
    "summary = pd.concat([ \n",
    "    pd.DataFrame(lm_results.params).rename(columns={0: 'estimate'}),\n",
    "    pd.DataFrame(lm_results.bse * 2).rename(columns={0: '2sd'})\n",
    "], axis=1)\n",
    "summary['true_vals'] = [0, 0.5, 1]\n",
    "summary['true_estimate'] = (\n",
    "    (summary['estimate'] + summary['2sd'] > summary['true_vals']) & (summary['estimate'] - summary['2sd'] < summary['true_vals'])\n",
    ")\n",
    "display(summary)\n",
    "assert summary.loc['const', 'true_estimate'] == True\n",
    "assert summary.loc['X', 'true_estimate'] == True"
   ]
  },
  {
   "cell_type": "markdown",
   "id": "d152ef53-abda-494d-bbcc-40e32d48f7b9",
   "metadata": {},
   "source": [
    "### Check that binomial works OK"
   ]
  },
  {
   "cell_type": "code",
   "execution_count": 20,
   "id": "ede9af6a-ea7f-4bb0-bd93-001e6be48cf4",
   "metadata": {},
   "outputs": [],
   "source": [
    "input_dict_3 = {\n",
    "    'Z': {\n",
    "        'dist': dist.BernoulliProbs, \n",
    "        'formula': {'probs': 'A ~ 1'}, \n",
    "        'coeffs': {'probs': [0.5]}, \n",
    "        'link': None\n",
    "    }, \n",
    "    'X': {\n",
    "        'dist': dist.Normal, \n",
    "        'formula': {'loc': 'X ~ Z', 'scale': 'X ~ 1'}, \n",
    "        'coeffs': {'loc': [0., 0.5], 'scale': [1.]}, \n",
    "        'link': None\n",
    "    },\n",
    "    'Y': {\n",
    "        'dist': dist.Normal, \n",
    "        'formula': {'loc': 'Y ~ X', 'scale': 'Y ~ 1'}, \n",
    "        'coeffs': {'loc': [0., 1.], 'scale': [0.5]}, \n",
    "        'link': None\n",
    "    }   \n",
    "}"
   ]
  },
  {
   "cell_type": "code",
   "execution_count": 21,
   "id": "9d6dce52-7fcb-48db-979d-0735c10b1d0a",
   "metadata": {},
   "outputs": [
    {
     "name": "stdout",
     "output_type": "stream",
     "text": [
      "INFO: No copula specified.\n",
      "WARNING: CHECK PASSES AUTOMATICALLY. FULL SOLUTION ADDED TBC\n",
      "CPU times: user 4.52 s, sys: 58.2 ms, total: 4.58 s\n",
      "Wall time: 4.57 s\n"
     ]
    },
    {
     "data": {
      "text/html": [
       "<div>\n",
       "<style scoped>\n",
       "    .dataframe tbody tr th:only-of-type {\n",
       "        vertical-align: middle;\n",
       "    }\n",
       "\n",
       "    .dataframe tbody tr th {\n",
       "        vertical-align: top;\n",
       "    }\n",
       "\n",
       "    .dataframe thead th {\n",
       "        text-align: right;\n",
       "    }\n",
       "</style>\n",
       "<table border=\"1\" class=\"dataframe\">\n",
       "  <thead>\n",
       "    <tr style=\"text-align: right;\">\n",
       "      <th></th>\n",
       "      <th>Z</th>\n",
       "      <th>X</th>\n",
       "      <th>Y</th>\n",
       "    </tr>\n",
       "  </thead>\n",
       "  <tbody>\n",
       "    <tr>\n",
       "      <th>count</th>\n",
       "      <td>1000000.000000</td>\n",
       "      <td>1000000.000000</td>\n",
       "      <td>1000000.000000</td>\n",
       "    </tr>\n",
       "    <tr>\n",
       "      <th>mean</th>\n",
       "      <td>0.499614</td>\n",
       "      <td>0.248476</td>\n",
       "      <td>0.248497</td>\n",
       "    </tr>\n",
       "    <tr>\n",
       "      <th>std</th>\n",
       "      <td>0.500000</td>\n",
       "      <td>1.027565</td>\n",
       "      <td>1.142574</td>\n",
       "    </tr>\n",
       "    <tr>\n",
       "      <th>min</th>\n",
       "      <td>0.000000</td>\n",
       "      <td>-4.343137</td>\n",
       "      <td>-4.711799</td>\n",
       "    </tr>\n",
       "    <tr>\n",
       "      <th>25%</th>\n",
       "      <td>0.000000</td>\n",
       "      <td>-0.445188</td>\n",
       "      <td>-0.522827</td>\n",
       "    </tr>\n",
       "    <tr>\n",
       "      <th>50%</th>\n",
       "      <td>0.000000</td>\n",
       "      <td>0.247508</td>\n",
       "      <td>0.246190</td>\n",
       "    </tr>\n",
       "    <tr>\n",
       "      <th>75%</th>\n",
       "      <td>1.000000</td>\n",
       "      <td>0.941066</td>\n",
       "      <td>1.018002</td>\n",
       "    </tr>\n",
       "    <tr>\n",
       "      <th>max</th>\n",
       "      <td>1.000000</td>\n",
       "      <td>5.440841</td>\n",
       "      <td>5.630909</td>\n",
       "    </tr>\n",
       "  </tbody>\n",
       "</table>\n",
       "</div>"
      ],
      "text/plain": [
       "                    Z               X               Y\n",
       "count  1000000.000000  1000000.000000  1000000.000000\n",
       "mean         0.499614        0.248476        0.248497\n",
       "std          0.500000        1.027565        1.142574\n",
       "min          0.000000       -4.343137       -4.711799\n",
       "25%          0.000000       -0.445188       -0.522827\n",
       "50%          0.000000        0.247508        0.246190\n",
       "75%          1.000000        0.941066        1.018002\n",
       "max          1.000000        5.440841        5.630909"
      ]
     },
     "execution_count": 21,
     "metadata": {},
     "output_type": "execute_result"
    }
   ],
   "source": [
    "%%time\n",
    "cop_mod_3 = CopulaModel(input_dict_3)\n",
    "sim_data_3 = cop_mod_3.simulate_data(num_warmup=5000, num_samples=1_000_000, joint_status='mixed', seed=0)\n",
    "sim_data_3 = pd.DataFrame(sim_data_3)[['Z', 'X', 'Y']]\n",
    "sim_data_3.describe()"
   ]
  },
  {
   "cell_type": "code",
   "execution_count": 22,
   "id": "ca48a612-3ba9-4418-89ea-c93826aaf2ef",
   "metadata": {},
   "outputs": [
    {
     "data": {
      "text/html": [
       "<div>\n",
       "<style scoped>\n",
       "    .dataframe tbody tr th:only-of-type {\n",
       "        vertical-align: middle;\n",
       "    }\n",
       "\n",
       "    .dataframe tbody tr th {\n",
       "        vertical-align: top;\n",
       "    }\n",
       "\n",
       "    .dataframe thead th {\n",
       "        text-align: right;\n",
       "    }\n",
       "</style>\n",
       "<table border=\"1\" class=\"dataframe\">\n",
       "  <thead>\n",
       "    <tr style=\"text-align: right;\">\n",
       "      <th></th>\n",
       "      <th>estimate</th>\n",
       "      <th>2sd</th>\n",
       "      <th>true_vals</th>\n",
       "      <th>true_estimate</th>\n",
       "    </tr>\n",
       "  </thead>\n",
       "  <tbody>\n",
       "    <tr>\n",
       "      <th>const</th>\n",
       "      <td>-0.000275</td>\n",
       "      <td>0.002819</td>\n",
       "      <td>0.0</td>\n",
       "      <td>True</td>\n",
       "    </tr>\n",
       "    <tr>\n",
       "      <th>Z</th>\n",
       "      <td>0.497887</td>\n",
       "      <td>0.003988</td>\n",
       "      <td>0.5</td>\n",
       "      <td>True</td>\n",
       "    </tr>\n",
       "  </tbody>\n",
       "</table>\n",
       "</div>"
      ],
      "text/plain": [
       "       estimate       2sd  true_vals  true_estimate\n",
       "const -0.000275  0.002819        0.0           True\n",
       "Z      0.497887  0.003988        0.5           True"
      ]
     },
     "metadata": {},
     "output_type": "display_data"
    }
   ],
   "source": [
    "lm = sm.OLS(sim_data_3[['X']].values.ravel(), sm.add_constant(sim_data_3[['Z']]))\n",
    "lm_results = lm.fit()\n",
    "\n",
    "summary = pd.concat([ \n",
    "    pd.DataFrame(lm_results.params).rename(columns={0: 'estimate'}),\n",
    "    pd.DataFrame(lm_results.bse * 2).rename(columns={0: '2sd'})\n",
    "], axis=1)\n",
    "summary['true_vals'] = [0, 0.5]\n",
    "summary['true_estimate'] = (\n",
    "    (summary['estimate'] + summary['2sd'] > summary['true_vals']) & (summary['estimate'] - summary['2sd'] < summary['true_vals'])\n",
    ")\n",
    "display(summary)\n",
    "assert summary.loc['const', 'true_estimate'] == True\n",
    "assert summary.loc['Z', 'true_estimate'] == True"
   ]
  },
  {
   "cell_type": "code",
   "execution_count": 23,
   "id": "cdf7634f-47ff-40a7-87f3-d623ac2a53db",
   "metadata": {},
   "outputs": [
    {
     "data": {
      "text/html": [
       "<div>\n",
       "<style scoped>\n",
       "    .dataframe tbody tr th:only-of-type {\n",
       "        vertical-align: middle;\n",
       "    }\n",
       "\n",
       "    .dataframe tbody tr th {\n",
       "        vertical-align: top;\n",
       "    }\n",
       "\n",
       "    .dataframe thead th {\n",
       "        text-align: right;\n",
       "    }\n",
       "</style>\n",
       "<table border=\"1\" class=\"dataframe\">\n",
       "  <thead>\n",
       "    <tr style=\"text-align: right;\">\n",
       "      <th></th>\n",
       "      <th>estimate</th>\n",
       "      <th>2sd</th>\n",
       "      <th>true_vals</th>\n",
       "      <th>true_estimate</th>\n",
       "    </tr>\n",
       "  </thead>\n",
       "  <tbody>\n",
       "    <tr>\n",
       "      <th>const</th>\n",
       "      <td>-0.000094</td>\n",
       "      <td>0.001413</td>\n",
       "      <td>0.0</td>\n",
       "      <td>True</td>\n",
       "    </tr>\n",
       "    <tr>\n",
       "      <th>Z</th>\n",
       "      <td>0.000293</td>\n",
       "      <td>0.002060</td>\n",
       "      <td>0.0</td>\n",
       "      <td>True</td>\n",
       "    </tr>\n",
       "    <tr>\n",
       "      <th>X</th>\n",
       "      <td>0.999875</td>\n",
       "      <td>0.001003</td>\n",
       "      <td>1.0</td>\n",
       "      <td>True</td>\n",
       "    </tr>\n",
       "  </tbody>\n",
       "</table>\n",
       "</div>"
      ],
      "text/plain": [
       "       estimate       2sd  true_vals  true_estimate\n",
       "const -0.000094  0.001413        0.0           True\n",
       "Z      0.000293  0.002060        0.0           True\n",
       "X      0.999875  0.001003        1.0           True"
      ]
     },
     "metadata": {},
     "output_type": "display_data"
    }
   ],
   "source": [
    "lm = sm.OLS(sim_data_3[['Y']].values.ravel(), sm.add_constant(sim_data_3[['Z', 'X']]))\n",
    "lm_results = lm.fit()\n",
    "\n",
    "summary = pd.concat([ \n",
    "    pd.DataFrame(lm_results.params).rename(columns={0: 'estimate'}),\n",
    "    pd.DataFrame(lm_results.bse * 2).rename(columns={0: '2sd'})\n",
    "], axis=1)\n",
    "summary['true_vals'] = [0, 0., 1]\n",
    "summary['true_estimate'] = (\n",
    "    (summary['estimate'] + summary['2sd'] > summary['true_vals']) & (summary['estimate'] - summary['2sd'] < summary['true_vals'])\n",
    ")\n",
    "display(summary)\n",
    "assert summary.loc['const', 'true_estimate'] == True\n",
    "assert summary.loc['X', 'true_estimate'] == True"
   ]
  },
  {
   "cell_type": "code",
   "execution_count": 24,
   "id": "c358a9fc-3398-4893-9f92-d01a27397ef8",
   "metadata": {},
   "outputs": [],
   "source": [
    "assert stats.chisquare(sim_data_3[['Z']].values.ravel()).pvalue > 0.1"
   ]
  }
 ],
 "metadata": {
  "kernelspec": {
   "display_name": "Python 3 (ipykernel)",
   "language": "python",
   "name": "python3"
  },
  "language_info": {
   "codemirror_mode": {
    "name": "ipython",
    "version": 3
   },
   "file_extension": ".py",
   "mimetype": "text/x-python",
   "name": "python",
   "nbconvert_exporter": "python",
   "pygments_lexer": "ipython3",
   "version": "3.9.7"
  }
 },
 "nbformat": 4,
 "nbformat_minor": 5
}
