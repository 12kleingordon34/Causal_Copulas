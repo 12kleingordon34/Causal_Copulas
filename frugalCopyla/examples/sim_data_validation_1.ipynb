{
 "cells": [
  {
   "cell_type": "markdown",
   "id": "ee9b40af-7d5a-4fff-9e72-8625209de6f3",
   "metadata": {},
   "source": [
    "# Validation"
   ]
  },
  {
   "cell_type": "code",
   "execution_count": null,
   "id": "43b6759f-9968-473e-9d81-c2227790e156",
   "metadata": {
    "tags": []
   },
   "outputs": [
    {
     "name": "stderr",
     "output_type": "stream",
     "text": [
      "/Users/danielmanela/.virtualenvs/causal-copulas/lib/python3.9/site-packages/tqdm/auto.py:22: TqdmWarning: IProgress not found. Please update jupyter and ipywidgets. See https://ipywidgets.readthedocs.io/en/stable/user_install.html\n",
      "  from .autonotebook import tqdm as notebook_tqdm\n"
     ]
    }
   ],
   "source": [
    "import math\n",
    "\n",
    "import jax\n",
    "import jax.numpy as jnp\n",
    "import matplotlib.pyplot as plt\n",
    "import numpy as np\n",
    "import numpyro\n",
    "import numpyro.distributions as dist\n",
    "import pandas as pd\n",
    "import scipy\n",
    "from scipy import stats\n",
    "import statsmodels.api as sm\n",
    "import tqdm\n",
    "\n",
    "from frugalCopyla.model import Copula_Model\n",
    "from frugalCopyla import copula_functions as copula_lpdfs"
   ]
  },
  {
   "cell_type": "markdown",
   "id": "145bf97c-e4d6-4b65-850b-217c80f1539a",
   "metadata": {},
   "source": [
    "## Example 1"
   ]
  },
  {
   "cell_type": "code",
   "execution_count": null,
   "id": "187a2402-d2a0-485a-a9de-920e654506ec",
   "metadata": {},
   "outputs": [],
   "source": [
    "input_dict = {\n",
    "    'Z': {\n",
    "        'dist': dist.Normal, \n",
    "        'formula': {'loc': 'A ~ 1', 'scale': 'A ~ 1'}, \n",
    "        'coeffs': {'loc': [0.], 'scale': [1.]}, \n",
    "        'link': None\n",
    "    }, \n",
    "    'X': {\n",
    "        'dist': dist.Normal, \n",
    "        'formula': {'loc': 'X ~ Z', 'scale': 'X ~ 1'}, \n",
    "        'coeffs': {'loc': [0., 0.5], 'scale': [1.]}, \n",
    "        'link': None\n",
    "    },\n",
    "    'Y': {\n",
    "        'dist': dist.Normal, \n",
    "        'formula': {'loc': 'Y ~ X', 'scale': 'Y ~ 1'}, \n",
    "        'coeffs': {'loc': [0., 0.5], 'scale': [0.5]}, \n",
    "        'link': {'loc': None}\n",
    "    }\n",
    "}"
   ]
  },
  {
   "cell_type": "markdown",
   "id": "3f26a62e-fbab-47f4-b68a-9dfdc0c2060f",
   "metadata": {},
   "source": [
    "Preparing the `Copula_Model`:"
   ]
  },
  {
   "cell_type": "code",
   "execution_count": null,
   "id": "acb7a626-9630-41db-8d57-b069e5c5cbd1",
   "metadata": {},
   "outputs": [],
   "source": [
    "%%time\n",
    "cop_mod = Copula_Model(input_dict)\n",
    "sim_data = cop_mod.simulate_data(num_warmup=2000, num_samples=1_000_000, joint_status='continuous', seed=1)\n",
    "sim_data = pd.DataFrame(sim_data)[['Z', 'X', 'Y']]\n",
    "sim_data.describe()"
   ]
  },
  {
   "cell_type": "code",
   "execution_count": null,
   "id": "e91da356-c860-463e-bf10-34be75357cc1",
   "metadata": {},
   "outputs": [],
   "source": [
    "assert stats.kstest(sim_data[['Z']].values.ravel(), stats.norm.cdf).pvalue > 0.1"
   ]
  },
  {
   "cell_type": "code",
   "execution_count": null,
   "id": "797d86ee-a4ae-404d-836b-d0243aaa93a9",
   "metadata": {},
   "outputs": [],
   "source": [
    "assert (stats.kstest(\n",
    "    (sim_data[['X']].values.ravel() - .5 * sim_data[['Z']].values.ravel()), \n",
    "    stats.norm.cdf\n",
    ").pvalue > 0.1)"
   ]
  },
  {
   "cell_type": "code",
   "execution_count": null,
   "id": "03ef40f1-5e6e-4ea9-a235-c0eca44f3a07",
   "metadata": {},
   "outputs": [],
   "source": [
    "lm = sm.OLS(sim_data[['X']].values.ravel(), sm.add_constant(sim_data[['Z']]))\n",
    "lm_results = lm.fit()\n",
    "\n",
    "summary = pd.concat([ \n",
    "    pd.DataFrame(lm_results.params).rename(columns={0: 'estimate'}),\n",
    "    pd.DataFrame(lm_results.bse * 2).rename(columns={0: '2sd'})\n",
    "], axis=1)\n",
    "summary['true_vals'] = [0, 0.5]\n",
    "summary['true_estimate'] = (\n",
    "    (summary['estimate'] + summary['2sd'] > summary['true_vals']) & (summary['estimate'] - summary['2sd'] < summary['true_vals'])\n",
    ")\n",
    "display(summary)\n",
    "assert summary.loc['const', 'true_estimate'] == True\n",
    "assert summary.loc['Z', 'true_estimate'] == True"
   ]
  },
  {
   "cell_type": "code",
   "execution_count": null,
   "id": "18e7fd5b-754d-4100-aae7-7a5c9470ff72",
   "metadata": {},
   "outputs": [],
   "source": [
    "lm = sm.OLS(sim_data[['Y']].values.ravel(), sm.add_constant(sim_data[['Z', 'X']]))\n",
    "lm_results = lm.fit()\n",
    "\n",
    "summary = pd.concat([ \n",
    "    pd.DataFrame(lm_results.params).rename(columns={0: 'estimate'}),\n",
    "    pd.DataFrame(lm_results.bse * 2).rename(columns={0: '2sd'})\n",
    "], axis=1)\n",
    "summary['true_vals'] = [0, 0, 0.5]\n",
    "summary['true_estimate'] = (\n",
    "    (summary['estimate'] + summary['2sd'] > summary['true_vals']) & (summary['estimate'] - summary['2sd'] < summary['true_vals'])\n",
    ")\n",
    "display(summary)\n",
    "assert summary.loc['const', 'true_estimate'] == True\n",
    "assert summary.loc['Z', 'true_estimate'] == True"
   ]
  },
  {
   "cell_type": "markdown",
   "id": "9faea0c4-b56c-4812-9cb5-21407fe2892c",
   "metadata": {},
   "source": [
    "## Example 2"
   ]
  },
  {
   "cell_type": "code",
   "execution_count": null,
   "id": "3efc8235-e5ad-480a-ac3d-343ca084ddba",
   "metadata": {},
   "outputs": [],
   "source": [
    "input_dict_2 = {\n",
    "    'Z': {\n",
    "        'dist': dist.Normal, \n",
    "        'formula': {'loc': 'A ~ 1', 'scale': 'A ~ 1'}, \n",
    "        'coeffs': {'loc': [0.], 'scale': [1.]}, \n",
    "        'link': None\n",
    "    }, \n",
    "    'U': {\n",
    "        'dist': dist.Normal, \n",
    "        'formula': {'loc': 'U ~ 1', 'scale': 'U ~ 1'}, \n",
    "        'coeffs': {'loc': [0.], 'scale': [1.]}, \n",
    "        'link': None\n",
    "    },     \n",
    "    'X': {\n",
    "        'dist': dist.Normal, \n",
    "        'formula': {'loc': 'X ~ Z', 'scale': 'X ~ 1'}, \n",
    "        'coeffs': {'loc': [0., 0.5], 'scale': [1.]}, \n",
    "        'link': None\n",
    "    },\n",
    "    'Y': {\n",
    "        'dist': dist.Normal, \n",
    "        'formula': {'loc': 'Y ~ X', 'scale': 'Y ~ 1'}, \n",
    "        'coeffs': {'loc': [0., 1.], 'scale': [0.5]}, \n",
    "        'link': {'loc': None}\n",
    "    },\n",
    "    'copula': {\n",
    "        'class': copula_lpdfs.multivar_gaussian_copula_lpdf, \n",
    "        'vars': {'u': 'Z', 'w': 'Y'}, \n",
    "        'formula': {'rho_zy': 'c ~ 1'}, \n",
    "        'coeffs': {'rho_zy': [0.5]}, \n",
    "        'link': {'rho_zy': None}\n",
    "    }    \n",
    "}"
   ]
  },
  {
   "cell_type": "code",
   "execution_count": null,
   "id": "878c9b61-5595-4462-a987-7f2ebcc0fa5e",
   "metadata": {},
   "outputs": [],
   "source": [
    "%%time\n",
    "cop_mod_2 = Copula_Model(input_dict_2)\n",
    "sim_data_2 = cop_mod_2.simulate_data(num_warmup=2000, num_samples=1_000_000, joint_status='continuous', seed=1)\n",
    "sim_data_2 = pd.DataFrame(sim_data_2)[['Z', 'X', 'Y']]"
   ]
  },
  {
   "cell_type": "code",
   "execution_count": null,
   "id": "c503b27e-12db-4328-b0d7-12c4c2c5a0b9",
   "metadata": {},
   "outputs": [],
   "source": [
    "lm = sm.OLS(sim_data_2[['X']].values.ravel(), sm.add_constant(sim_data_2[['Z']]))\n",
    "lm_results = lm.fit()\n",
    "\n",
    "summary = pd.concat([ \n",
    "    pd.DataFrame(lm_results.params).rename(columns={0: 'estimate'}),\n",
    "    pd.DataFrame(lm_results.bse * 2).rename(columns={0: '2sd'})\n",
    "], axis=1)\n",
    "summary['true_vals'] = [0, 0.5]\n",
    "summary['true_estimate'] = (\n",
    "    (summary['estimate'] + summary['2sd'] > summary['true_vals']) & (summary['estimate'] - summary['2sd'] < summary['true_vals'])\n",
    ")\n",
    "display(summary)\n",
    "assert summary.loc['const', 'true_estimate'] == True\n",
    "assert summary.loc['Z', 'true_estimate'] == True"
   ]
  },
  {
   "cell_type": "code",
   "execution_count": null,
   "id": "4914d55c-d989-4e92-ba1e-65393a74ff23",
   "metadata": {},
   "outputs": [],
   "source": [
    "lm = sm.OLS(sim_data_2[['Y']].values.ravel(), sm.add_constant(sim_data_2[['Z', 'X']]))\n",
    "lm_results = lm.fit()\n",
    "\n",
    "summary = pd.concat([ \n",
    "    pd.DataFrame(lm_results.params).rename(columns={0: 'estimate'}),\n",
    "    pd.DataFrame(lm_results.bse * 2).rename(columns={0: '2sd'})\n",
    "], axis=1)\n",
    "summary['true_vals'] = [0, 0.5, 1]\n",
    "summary['true_estimate'] = (\n",
    "    (summary['estimate'] + summary['2sd'] > summary['true_vals']) & (summary['estimate'] - summary['2sd'] < summary['true_vals'])\n",
    ")\n",
    "display(summary)\n",
    "assert summary.loc['const', 'true_estimate'] == True\n",
    "assert summary.loc['X', 'true_estimate'] == True"
   ]
  },
  {
   "cell_type": "markdown",
   "id": "d152ef53-abda-494d-bbcc-40e32d48f7b9",
   "metadata": {},
   "source": [
    "### Check that binomial works OK"
   ]
  },
  {
   "cell_type": "code",
   "execution_count": null,
   "id": "ede9af6a-ea7f-4bb0-bd93-001e6be48cf4",
   "metadata": {},
   "outputs": [],
   "source": [
    "input_dict_3 = {\n",
    "    'Z': {\n",
    "        'dist': dist.BernoulliProbs, \n",
    "        'formula': {'probs': 'A ~ 1'}, \n",
    "        'coeffs': {'probs': [0.5]}, \n",
    "        'link': None\n",
    "    }, \n",
    "    'X': {\n",
    "        'dist': dist.Normal, \n",
    "        'formula': {'loc': 'X ~ Z', 'scale': 'X ~ 1'}, \n",
    "        'coeffs': {'loc': [0., 0.5], 'scale': [1.]}, \n",
    "        'link': None\n",
    "    },\n",
    "    'Y': {\n",
    "        'dist': dist.Normal, \n",
    "        'formula': {'loc': 'Y ~ X', 'scale': 'Y ~ 1'}, \n",
    "        'coeffs': {'loc': [0., 1.], 'scale': [0.5]}, \n",
    "        'link': None\n",
    "    }   \n",
    "}"
   ]
  },
  {
   "cell_type": "code",
   "execution_count": null,
   "id": "9d6dce52-7fcb-48db-979d-0735c10b1d0a",
   "metadata": {},
   "outputs": [],
   "source": [
    "%%time\n",
    "cop_mod_3 = Copula_Model(input_dict_3)\n",
    "sim_data_3 = cop_mod_3.simulate_data(num_warmup=5000, num_samples=1_000_000, joint_status='mixed', seed=0)\n",
    "sim_data_3 = pd.DataFrame(sim_data_3)[['Z', 'X', 'Y']]\n",
    "sim_data_3.describe()"
   ]
  },
  {
   "cell_type": "code",
   "execution_count": null,
   "id": "ca48a612-3ba9-4418-89ea-c93826aaf2ef",
   "metadata": {},
   "outputs": [],
   "source": [
    "lm = sm.OLS(sim_data_3[['X']].values.ravel(), sm.add_constant(sim_data_3[['Z']]))\n",
    "lm_results = lm.fit()\n",
    "\n",
    "summary = pd.concat([ \n",
    "    pd.DataFrame(lm_results.params).rename(columns={0: 'estimate'}),\n",
    "    pd.DataFrame(lm_results.bse * 2).rename(columns={0: '2sd'})\n",
    "], axis=1)\n",
    "summary['true_vals'] = [0, 0.5]\n",
    "summary['true_estimate'] = (\n",
    "    (summary['estimate'] + summary['2sd'] > summary['true_vals']) & (summary['estimate'] - summary['2sd'] < summary['true_vals'])\n",
    ")\n",
    "display(summary)\n",
    "assert summary.loc['const', 'true_estimate'] == True\n",
    "assert summary.loc['Z', 'true_estimate'] == True"
   ]
  },
  {
   "cell_type": "code",
   "execution_count": null,
   "id": "cdf7634f-47ff-40a7-87f3-d623ac2a53db",
   "metadata": {},
   "outputs": [],
   "source": [
    "lm = sm.OLS(sim_data_3[['Y']].values.ravel(), sm.add_constant(sim_data_3[['Z', 'X']]))\n",
    "lm_results = lm.fit()\n",
    "\n",
    "summary = pd.concat([ \n",
    "    pd.DataFrame(lm_results.params).rename(columns={0: 'estimate'}),\n",
    "    pd.DataFrame(lm_results.bse * 2).rename(columns={0: '2sd'})\n",
    "], axis=1)\n",
    "summary['true_vals'] = [0, 0., 1]\n",
    "summary['true_estimate'] = (\n",
    "    (summary['estimate'] + summary['2sd'] > summary['true_vals']) & (summary['estimate'] - summary['2sd'] < summary['true_vals'])\n",
    ")\n",
    "display(summary)\n",
    "assert summary.loc['const', 'true_estimate'] == True\n",
    "assert summary.loc['X', 'true_estimate'] == True"
   ]
  },
  {
   "cell_type": "code",
   "execution_count": null,
   "id": "c358a9fc-3398-4893-9f92-d01a27397ef8",
   "metadata": {},
   "outputs": [],
   "source": [
    "assert stats.chisquare(sim_data_3[['Z']].values.ravel()).pvalue > 0.1"
   ]
  }
 ],
 "metadata": {
  "kernelspec": {
   "display_name": "Python 3 (ipykernel)",
   "language": "python",
   "name": "python3"
  },
  "language_info": {
   "codemirror_mode": {
    "name": "ipython",
    "version": 3
   },
   "file_extension": ".py",
   "mimetype": "text/x-python",
   "name": "python",
   "nbconvert_exporter": "python",
   "pygments_lexer": "ipython3",
   "version": "3.9.7"
  }
 },
 "nbformat": 4,
 "nbformat_minor": 5
}
