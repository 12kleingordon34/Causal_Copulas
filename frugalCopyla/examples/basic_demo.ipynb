{
 "cells": [
  {
   "cell_type": "markdown",
   "id": "ee9b40af-7d5a-4fff-9e72-8625209de6f3",
   "metadata": {},
   "source": [
    "# Test environment for package development"
   ]
  },
  {
   "cell_type": "code",
   "execution_count": 1,
   "id": "43b6759f-9968-473e-9d81-c2227790e156",
   "metadata": {
    "tags": []
   },
   "outputs": [
    {
     "name": "stderr",
     "output_type": "stream",
     "text": [
      "/Users/danielmanela/.virtualenvs/test-copyla/lib/python3.9/site-packages/tqdm-4.64.1-py3.9.egg/tqdm/auto.py:22: TqdmWarning: IProgress not found. Please update jupyter and ipywidgets. See https://ipywidgets.readthedocs.io/en/stable/user_install.html\n",
      "  from .autonotebook import tqdm as notebook_tqdm\n"
     ]
    }
   ],
   "source": [
    "import jax\n",
    "import jax.numpy as jnp\n",
    "import numpy as np\n",
    "import numpyro\n",
    "import numpyro.distributions as dist\n",
    "import pandas as pd\n",
    "\n",
    "from frugalCopyla.model import Copula_Model"
   ]
  },
  {
   "cell_type": "markdown",
   "id": "145bf97c-e4d6-4b65-850b-217c80f1539a",
   "metadata": {},
   "source": [
    "## Rough outline"
   ]
  },
  {
   "cell_type": "markdown",
   "id": "ea622d8d-92f2-4e32-9a33-9057e2c4fbec",
   "metadata": {},
   "source": [
    "Ideally, one could specify a (linear) model with a variety of parameters, and generate samples from it. It would bypass the need to play around with a numpyro backend and allow you to generate data purely from a relatively trivial model parameterisation."
   ]
  },
  {
   "cell_type": "markdown",
   "id": "8132d994-7a09-4e65-9380-e7ffa763f8a3",
   "metadata": {},
   "source": [
    "**TO DO: NEED TO CHANGE ALL MENTION OF LINK FUNCTIONS TO INVERSE LINK FUCTIONS**"
   ]
  },
  {
   "cell_type": "markdown",
   "id": "177625a3-f290-412e-bed3-43de8e557f1e",
   "metadata": {},
   "source": [
    "The input should be a dictionary whose keys label the variables in your model. For each of these, specify in a sub-dictionary:\n",
    "\n",
    "* `dist`: The distribution the variable is drawn from. These must be selected from `numpyro.distributions`\n",
    "* `formula`: For each parameter in the chosen distribution, specify its linear model **only using variables defined earlier in the dictionary**. The names of the correct parameters can be found by either [searching the `numpyro` documentation]() or looking at the `arg_constraints` of the distribution by running (using the Normal as an example) : \n",
    "```\n",
    "> numpyro.distributions.Normal.arg_constraints \n",
    "\n",
    "{'loc': Real(), 'scale': GreaterThan(lower_bound=0.0)}\n",
    "```\n",
    "* `params` (name will most likely change): Specifies the linear coefficients used to generate the primary variable through the linear model. A set of coefficients must be provided for each parameter. Note that the labelling of parameters (e.g. `'formula': {'rate': 'X ~ 1 + Z + A'}, 'params': {'rate': {'x_0': 0., 'x_1': 2., 'x_2': 1}}`) does not affect the linear model. Only the order of the specification matters. For example, `x_0` will be the coefficient of the first variable in the formula (always the intercept) and `x_2` will always be the last.\n",
    "* `link` allows the user to provide a link function for each of the linear formulas. For example, the command \n",
    "```'X': {'dist': dist.Exponential, 'formula': {'rate': 'X ~ 1 + Z + A'}, 'params': {'rate': {'x_0': 0., 'x_1': 2., 'x_2': 1}}, 'link': {'rate': jnp.exp}},``` will wrap the linear predictor in an exponential function such that the probabilistic model is $$X \\sim \\text{Exponential}(\\lambda=\\exp(2Z + A)).$$ **Note that the link function must have a `jax` base.** If no link function is require, leave it as `None`.\n",
    "* `copula`: To specify a copula, first choose a `'class'` of copula from [frugalCopyla/copula_functions.py](../frugalCopyla/copula_functions.py). The copula functions will take in keyword arguments to calculate the log-likelihood of the copula factor. \n",
    "    * Under `vars`, provide a mapping of the variables linked by the copula and the function arguments using a dictionary. For example, the `bivariate_gaussian_copula_lpdf(u, v, rho)` factor takes two variables, and one `rho` parameter. If we wish to simulate a copula between `Z` and `Y`, provide `vars` the dictionary `..., 'vars': {'u': 'Z', 'v': 'Y'}`.\n",
    "    * Under `'formula'`, specify the form of the linear predictor for the parameters passed to the copula. The coefficients for the linear predictor are specified under `'params'`.\n",
    "    * Similarly to the other inputs, a link function can be chosen to wrap the linear predictor specified in `'formula'` and `'params'`."
   ]
  },
  {
   "cell_type": "markdown",
   "id": "bf345d70-61f8-4bc0-9317-71e8a4a082b4",
   "metadata": {},
   "source": [
    "For example, consider the following probabilistic model:\n",
    "$$ A \\sim \\text{Bernoulli}(0.5) \\newline Z \\sim \\mathcal{N}(0, 1) \\newline X ~ \\text{Exponential}(\\exp(2Z + A) \\newline Y | \\text{do}(X) \\sim \\mathcal{N}(X - 0.5, 1)$$\n",
    "and a bivariate Gaussian copula between $Z$ and $Y$ parameterised by a fixed covariance term $\\rho_{ZY} = logit(1)$\n",
    "\n",
    "The following model is specfied in `input_dict`."
   ]
  },
  {
   "cell_type": "code",
   "execution_count": 2,
   "id": "187a2402-d2a0-485a-a9de-920e654506ec",
   "metadata": {},
   "outputs": [],
   "source": [
    "input_dict = {\n",
    "    'A': {'dist': dist.BernoulliProbs, 'formula': {'probs': 'A ~ 1'}, 'params': {'probs': {'z_0': 0.5}}, 'link': None}, \n",
    "    'Z': {'dist': dist.Normal, 'formula': {'loc': 'Z ~ 1', 'scale': 'Z ~ 1'}, 'params': {'loc': {'z_0': 0.}, 'scale': {'z_0': 1}}, 'link': None},\n",
    "    'X': {'dist': dist.Exponential, 'formula': {'rate': 'X ~ 1 + Z + A'}, 'params': {'rate': {'x_0': 0., 'x_1': 2., 'x_2': 1}}, 'link': {'rate': jnp.exp}},\n",
    "    'Y': {'dist': dist.Normal, 'formula': {'loc': 'Y ~ 1 + X', 'scale': 'Y ~ 1'}, 'params': {'loc': {'y_0': -0.5, 'y_1': 1.}, 'scale': {'phi': 1.}}, 'link': None},\n",
    "    'copula': {'class': 'bivariate_gaussian_copula', 'vars': {'u': 'Z', 'v': 'Y'}, 'formula': {'rho': 'c ~ Z'}, 'params': {'rho': {'a': 1., 'b': 0.}}, 'link': {'rho': jax.nn.sigmoid}}\n",
    "}"
   ]
  },
  {
   "cell_type": "markdown",
   "id": "3f26a62e-fbab-47f4-b68a-9dfdc0c2060f",
   "metadata": {},
   "source": [
    "Preparing the `Copula_Model`:"
   ]
  },
  {
   "cell_type": "code",
   "execution_count": 3,
   "id": "acb7a626-9630-41db-8d57-b069e5c5cbd1",
   "metadata": {},
   "outputs": [
    {
     "name": "stdout",
     "output_type": "stream",
     "text": [
      "WARNING: CHECK PASSES AUTOMATICALLY. FULL SOLUTION ADDED TBC\n"
     ]
    }
   ],
   "source": [
    "cop_mod = Copula_Model(input_dict)"
   ]
  },
  {
   "cell_type": "markdown",
   "id": "05a15b08-cc1f-4df9-933f-0bf7d0b87865",
   "metadata": {},
   "source": [
    "We can see whether the model has been parsed correctly by looking at the `'full_formula'` entries in the output.\n",
    "\n",
    "Currently, the code is set up such that each random variable in the linear model should be fetched from a dictionary named `record_dict`. That is, instead of seeing `Y ~ X + A` we should see `Y ~ record_dict['X'] + record_dict['A']`."
   ]
  },
  {
   "cell_type": "code",
   "execution_count": 4,
   "id": "3e64a055-3fd4-44d9-bda6-7b7595941c30",
   "metadata": {},
   "outputs": [
    {
     "data": {
      "text/plain": [
       "{'A': {'dist': numpyro.distributions.discrete.BernoulliProbs,\n",
       "  'formula': {'probs': 'A ~ 1'},\n",
       "  'params': {'probs': {'z_0': 0.5}},\n",
       "  'link': {},\n",
       "  'full_formula': {'probs': '0.5'}},\n",
       " 'Z': {'dist': numpyro.distributions.continuous.Normal,\n",
       "  'formula': {'loc': 'Z ~ 1', 'scale': 'Z ~ 1'},\n",
       "  'params': {'loc': {'z_0': 0.0}, 'scale': {'z_0': 1}},\n",
       "  'link': {},\n",
       "  'full_formula': {'loc': '0.0', 'scale': '1'}},\n",
       " 'X': {'dist': numpyro.distributions.continuous.Exponential,\n",
       "  'formula': {'rate': \"X ~ 1 + record_dict['Z'] + record_dict['A']\"},\n",
       "  'params': {'rate': {'x_0': 0.0, 'x_1': 2.0, 'x_2': 1}},\n",
       "  'link': {'rate': <CompiledFunction of <function _one_to_one_unop.<locals>.<lambda> at 0x10e2f5940>>},\n",
       "  'full_formula': {'rate': \"0.0 + 2.0 * record_dict['Z'] + 1 * record_dict['A']\"}},\n",
       " 'Y': {'dist': numpyro.distributions.continuous.Normal,\n",
       "  'formula': {'loc': \"Y ~ 1 + record_dict['X']\", 'scale': 'Y ~ 1'},\n",
       "  'params': {'loc': {'y_0': -0.5, 'y_1': 1.0}, 'scale': {'phi': 1.0}},\n",
       "  'link': {},\n",
       "  'full_formula': {'loc': \"-0.5 + 1.0 * record_dict['X']\", 'scale': '1.0'}},\n",
       " 'copula': {'class': <function frugalCopyla.copula_functions.bivariate_gaussian_copula_lpdf(u, v, rho)>,\n",
       "  'vars': {'u': 'Z', 'v': 'Y'},\n",
       "  'corr_full_formula': {'rho': \"1.0 + 0.0 * record_dict['Z']\"},\n",
       "  'link': {'rho': <CompiledFunction of <function sigmoid at 0x122d3fee0>>}}}"
      ]
     },
     "execution_count": 4,
     "metadata": {},
     "output_type": "execute_result"
    }
   ],
   "source": [
    "parsed_model = cop_mod.parsed_model\n",
    "parsed_model"
   ]
  },
  {
   "cell_type": "markdown",
   "id": "5ad57dfe-285f-41af-86a6-b9ce166d30e8",
   "metadata": {},
   "source": [
    "Looks ok so far. Now we can simulate from the prior using MCMC. Specify the steps for warmup and sampling, the seed (if desired), and whether the joint is `'continuous'`, `'discrete'`, or `'mixed'`. If this last step is not specified correctly you may see an error."
   ]
  },
  {
   "cell_type": "markdown",
   "id": "463e5015-46e4-4d3a-b77e-90b405bf856f",
   "metadata": {},
   "source": [
    "The simulated data is returned as a dictionary of data, along with the inverse cdf'd copula RVs (and their standard normals) of the copula parameters and the samples for the copula parameters:"
   ]
  },
  {
   "cell_type": "code",
   "execution_count": 5,
   "id": "a8950c08-b7e7-482a-8373-5870de7a9edf",
   "metadata": {},
   "outputs": [
    {
     "data": {
      "text/html": [
       "<div>\n",
       "<style scoped>\n",
       "    .dataframe tbody tr th:only-of-type {\n",
       "        vertical-align: middle;\n",
       "    }\n",
       "\n",
       "    .dataframe tbody tr th {\n",
       "        vertical-align: top;\n",
       "    }\n",
       "\n",
       "    .dataframe thead th {\n",
       "        text-align: right;\n",
       "    }\n",
       "</style>\n",
       "<table border=\"1\" class=\"dataframe\">\n",
       "  <thead>\n",
       "    <tr style=\"text-align: right;\">\n",
       "      <th></th>\n",
       "      <th>A</th>\n",
       "      <th>X</th>\n",
       "      <th>Y</th>\n",
       "      <th>Z</th>\n",
       "      <th>q_Y</th>\n",
       "      <th>q_Z</th>\n",
       "      <th>rho</th>\n",
       "      <th>std_normal_Y</th>\n",
       "      <th>std_normal_Z</th>\n",
       "    </tr>\n",
       "  </thead>\n",
       "  <tbody>\n",
       "    <tr>\n",
       "      <th>count</th>\n",
       "      <td>10000.000000</td>\n",
       "      <td>10000.000000</td>\n",
       "      <td>10000.000000</td>\n",
       "      <td>10000.000000</td>\n",
       "      <td>10000.000000</td>\n",
       "      <td>10000.000000</td>\n",
       "      <td>10000.000000</td>\n",
       "      <td>10000.000000</td>\n",
       "      <td>10000.000000</td>\n",
       "    </tr>\n",
       "    <tr>\n",
       "      <th>mean</th>\n",
       "      <td>0.526200</td>\n",
       "      <td>0.724472</td>\n",
       "      <td>0.366902</td>\n",
       "      <td>0.201363</td>\n",
       "      <td>0.539700</td>\n",
       "      <td>0.555629</td>\n",
       "      <td>0.731058</td>\n",
       "      <td>0.142430</td>\n",
       "      <td>0.201363</td>\n",
       "    </tr>\n",
       "    <tr>\n",
       "      <th>std</th>\n",
       "      <td>0.499338</td>\n",
       "      <td>1.054587</td>\n",
       "      <td>1.036412</td>\n",
       "      <td>0.867837</td>\n",
       "      <td>0.280151</td>\n",
       "      <td>0.262885</td>\n",
       "      <td>0.000000</td>\n",
       "      <td>0.945510</td>\n",
       "      <td>0.867837</td>\n",
       "    </tr>\n",
       "    <tr>\n",
       "      <th>min</th>\n",
       "      <td>0.000000</td>\n",
       "      <td>0.000008</td>\n",
       "      <td>-3.436111</td>\n",
       "      <td>-2.508168</td>\n",
       "      <td>0.001104</td>\n",
       "      <td>0.006068</td>\n",
       "      <td>0.731059</td>\n",
       "      <td>-3.060654</td>\n",
       "      <td>-2.508168</td>\n",
       "    </tr>\n",
       "    <tr>\n",
       "      <th>25%</th>\n",
       "      <td>0.000000</td>\n",
       "      <td>0.055260</td>\n",
       "      <td>-0.331392</td>\n",
       "      <td>-0.422512</td>\n",
       "      <td>0.303812</td>\n",
       "      <td>0.336326</td>\n",
       "      <td>0.731059</td>\n",
       "      <td>-0.513469</td>\n",
       "      <td>-0.422511</td>\n",
       "    </tr>\n",
       "    <tr>\n",
       "      <th>50%</th>\n",
       "      <td>1.000000</td>\n",
       "      <td>0.250307</td>\n",
       "      <td>0.299780</td>\n",
       "      <td>0.161178</td>\n",
       "      <td>0.551845</td>\n",
       "      <td>0.564023</td>\n",
       "      <td>0.731059</td>\n",
       "      <td>0.130325</td>\n",
       "      <td>0.161177</td>\n",
       "    </tr>\n",
       "    <tr>\n",
       "      <th>75%</th>\n",
       "      <td>1.000000</td>\n",
       "      <td>0.928270</td>\n",
       "      <td>0.984778</td>\n",
       "      <td>0.777478</td>\n",
       "      <td>0.782922</td>\n",
       "      <td>0.781561</td>\n",
       "      <td>0.731059</td>\n",
       "      <td>0.782100</td>\n",
       "      <td>0.777477</td>\n",
       "    </tr>\n",
       "    <tr>\n",
       "      <th>max</th>\n",
       "      <td>1.000000</td>\n",
       "      <td>5.773732</td>\n",
       "      <td>4.266821</td>\n",
       "      <td>3.225994</td>\n",
       "      <td>0.999842</td>\n",
       "      <td>0.999372</td>\n",
       "      <td>0.731059</td>\n",
       "      <td>3.601015</td>\n",
       "      <td>3.225986</td>\n",
       "    </tr>\n",
       "  </tbody>\n",
       "</table>\n",
       "</div>"
      ],
      "text/plain": [
       "                  A             X             Y             Z           q_Y  \\\n",
       "count  10000.000000  10000.000000  10000.000000  10000.000000  10000.000000   \n",
       "mean       0.526200      0.724472      0.366902      0.201363      0.539700   \n",
       "std        0.499338      1.054587      1.036412      0.867837      0.280151   \n",
       "min        0.000000      0.000008     -3.436111     -2.508168      0.001104   \n",
       "25%        0.000000      0.055260     -0.331392     -0.422512      0.303812   \n",
       "50%        1.000000      0.250307      0.299780      0.161178      0.551845   \n",
       "75%        1.000000      0.928270      0.984778      0.777478      0.782922   \n",
       "max        1.000000      5.773732      4.266821      3.225994      0.999842   \n",
       "\n",
       "                q_Z           rho  std_normal_Y  std_normal_Z  \n",
       "count  10000.000000  10000.000000  10000.000000  10000.000000  \n",
       "mean       0.555629      0.731058      0.142430      0.201363  \n",
       "std        0.262885      0.000000      0.945510      0.867837  \n",
       "min        0.006068      0.731059     -3.060654     -2.508168  \n",
       "25%        0.336326      0.731059     -0.513469     -0.422511  \n",
       "50%        0.564023      0.731059      0.130325      0.161177  \n",
       "75%        0.781561      0.731059      0.782100      0.777477  \n",
       "max        0.999372      0.731059      3.601015      3.225986  "
      ]
     },
     "execution_count": 5,
     "metadata": {},
     "output_type": "execute_result"
    }
   ],
   "source": [
    "sim_data = cop_mod.simulate_data(num_warmup=1000, num_samples=10000, joint_status='mixed', seed=0)\n",
    "pd.DataFrame(sim_data).describe()"
   ]
  }
 ],
 "metadata": {
  "kernelspec": {
   "display_name": "Python 3 (ipykernel)",
   "language": "python",
   "name": "python3"
  },
  "language_info": {
   "codemirror_mode": {
    "name": "ipython",
    "version": 3
   },
   "file_extension": ".py",
   "mimetype": "text/x-python",
   "name": "python",
   "nbconvert_exporter": "python",
   "pygments_lexer": "ipython3",
   "version": "3.9.7"
  }
 },
 "nbformat": 4,
 "nbformat_minor": 5
}
